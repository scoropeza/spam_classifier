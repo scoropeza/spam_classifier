{
 "cells": [
  {
   "cell_type": "markdown",
   "metadata": {},
   "source": [
    "# Spam Email Classifier\n",
    "\n",
    "The purpose of this notebook is to create and train a model that can predict, with high accuracy, whether a given email is a spam or not (ham). This is a binary classification problem that involves Natural Language Processing (NLP).\n",
    "\n",
    "**This notebook was used in a local (non-cloud) environment. The trained model is deployed on AWS**\n",
    "\n",
    "I will be using the <a href='http://www2.aueb.gr/users/ion/data/enron-spam/'>enron spam email dataset</a>.\n",
    "\n",
    "Contents:\n",
    "\n",
    "1. [Installing and Importing Dependencies](#libraries)\n",
    "2. [Loading the Dataset](#load_dataset)\n",
    "3. [Exploratory Data Analysis](#eda)\n",
    "4. [Feature Engineering](#feature_engineering)\n",
    "5. [Model Training](#train)\n",
    "6. [Testing Model Predictions](#test_inference)\n",
    "7. [Best Model](#best_model)\n",
    "8. [Model Deployment](#deploy_model)\n",
    "9. [Model Inference](#endpoint_inference)"
   ]
  },
  {
   "cell_type": "markdown",
   "metadata": {},
   "source": [
    "## <a class=\"anchor\" id=\"libraries\">Installing and Importing Dependencies</a>"
   ]
  },
  {
   "cell_type": "markdown",
   "metadata": {},
   "source": [
    "This notebook makes use of the following dependencies:\n",
    "* <a href='https://www.nltk.org/'>NLTK</a> - Natural Language Toolkit for Python\n",
    "* <a href='https://scikit-learn.org/'>Scikit-learn</a> - Preprocessing and Machine Learning\n",
    "* <a href='https://pandas.pydata.org/'>Pandas</a> - Data analysis and visualization\n",
    "* <a href='https://numpy.org/'>Numpy</a> - Scientific computing\n",
    "* <a href='https://seaborn.pydata.org/'>Seaborn</a> - Statistical data visualization\n"
   ]
  },
  {
   "cell_type": "code",
   "execution_count": null,
   "metadata": {},
   "outputs": [],
   "source": [
    "# Install and download required modules for NLTK\n",
    "# ONLY RUN THIS ONCE\n",
    "# %pip install pandas --upgrade\n",
    "# %pip install numpy==1.19.5\n",
    "# %pip install seaborn --upgrade\n",
    "# !pip install nltk #This installs nltk using pip\n",
    "# %pip install sagemaker"
   ]
  },
  {
   "cell_type": "code",
   "execution_count": 211,
   "metadata": {},
   "outputs": [
    {
     "name": "stderr",
     "output_type": "stream",
     "text": [
      "[nltk_data] Downloading package stopwords to\n",
      "[nltk_data]     /Users/samcaso/nltk_data...\n",
      "[nltk_data]   Package stopwords is already up-to-date!\n",
      "[nltk_data] Downloading package wordnet to /Users/samcaso/nltk_data...\n",
      "[nltk_data]   Package wordnet is already up-to-date!\n",
      "[nltk_data] Downloading package omw-1.4 to /Users/samcaso/nltk_data...\n",
      "[nltk_data]   Package omw-1.4 is already up-to-date!\n"
     ]
    },
    {
     "data": {
      "text/plain": [
       "True"
      ]
     },
     "execution_count": 211,
     "metadata": {},
     "output_type": "execute_result"
    }
   ],
   "source": [
    "# Load the dataset\n",
    "import os\n",
    "from pathlib import Path\n",
    "import urllib.request\n",
    "import tarfile\n",
    "from sklearn.datasets import load_files\n",
    "#Exploratory Data Analysis\n",
    "import pandas as pd\n",
    "import numpy as np\n",
    "# Data Visualization\n",
    "import seaborn as sns\n",
    "from matplotlib import pyplot as plt\n",
    "sns.color_palette(\"Spectral\", as_cmap=True)\n",
    "sns.set()\n",
    "%matplotlib inline\n",
    "#Feature Engineering - Text pre-processing\n",
    "import string\n",
    "import re\n",
    "import nltk\n",
    "from nltk.corpus import stopwords\n",
    "from nltk.stem.porter import PorterStemmer\n",
    "from nltk.stem import WordNetLemmatizer\n",
    "#Feature Engineering - Vectorization with Bag of words + TF-IDF\n",
    "from sklearn.feature_extraction.text import CountVectorizer\n",
    "from sklearn.feature_extraction.text import TfidfTransformer\n",
    "# Model Training\n",
    "from sklearn import set_config\n",
    "from sklearn.model_selection import train_test_split\n",
    "from sklearn.metrics import confusion_matrix\n",
    "from sklearn.metrics import classification_report\n",
    "from sklearn.naive_bayes import MultinomialNB # Naive Bayes\n",
    "from sklearn.linear_model import SGDClassifier # SVM Linear classifier with SGD\n",
    "from sklearn.neighbors import KNeighborsClassifier # K-nearest neighbors\n",
    "from sklearn.ensemble import RandomForestClassifier # Random Forest\n",
    "from sklearn.pipeline import Pipeline\n",
    "\n",
    "nltk.download('stopwords')\n",
    "nltk.download('wordnet')\n",
    "nltk.download('omw-1.4')"
   ]
  },
  {
   "cell_type": "markdown",
   "metadata": {},
   "source": [
    "## <a class=\"anchor\" id=\"load_dataset\">Loading the Dataset</a>"
   ]
  },
  {
   "cell_type": "markdown",
   "metadata": {},
   "source": [
    "Download the dataset from the original source"
   ]
  },
  {
   "cell_type": "code",
   "execution_count": 212,
   "metadata": {},
   "outputs": [],
   "source": [
    "# Create folder structure where the dataset will be stored\n",
    "dataset_folder_path = \"../enron_datasets/spam_dataset\"\n",
    "dataset_folder = Path(dataset_folder_path)\n",
    "dataset_folder.mkdir(parents=True, exist_ok=True)\n",
    "# Download the dataset from the source location\n",
    "for i in range(1, 7):\n",
    "#for i in range(1, 2):\n",
    "    urllib.request.urlretrieve(\"http://nlp.cs.aueb.gr/software_and_datasets/Enron-Spam/preprocessed/enron\"+str(i)+\".tar.gz\", \"../enron_datasets/spam_dataset/enron\"+str(i)+\".tar.gz\")\n",
    "    file = tarfile.open(str(Path(dataset_folder_path+'/enron'+str(i)+'.tar.gz').absolute()))\n",
    "    file.extractall(dataset_folder_path)\n",
    "    # Remove Tar file\n",
    "    file_to_rem = Path(dataset_folder_path+'/enron'+str(i)+'.tar.gz')\n",
    "    file_to_rem.unlink()"
   ]
  },
  {
   "cell_type": "markdown",
   "metadata": {},
   "source": [
    "Load emails from the dataset into a pandas dataframe"
   ]
  },
  {
   "cell_type": "code",
   "execution_count": 213,
   "metadata": {},
   "outputs": [
    {
     "name": "stdout",
     "output_type": "stream",
     "text": [
      "Loading files from path ../enron_datasets/spam_dataset/enron1\n",
      "Creating pandas dataframe for further analysis and manipulation...\n",
      "done!\n"
     ]
    }
   ],
   "source": [
    "X, y = [], []\n",
    "dirpath = '../enron_datasets/spam_dataset'\n",
    "for subdir in os.listdir(dirpath):\n",
    "    if os.path.isdir and subdir != '.DS_Store':\n",
    "    #if os.path.isdir and subdir  == 'enron1':\n",
    "        print(f\"Loading files from path {os.path.join(dirpath, subdir)}\")\n",
    "        email_dataset = load_files(os.path.join(dirpath, subdir))\n",
    "        X = np.append(X, email_dataset.data)\n",
    "        y = np.append(y, email_dataset.target)\n",
    "\n",
    "# Create pandas dataframe for further analysis and manipulation\n",
    "print(\"Creating pandas dataframe for further analysis and manipulation...\")\n",
    "emails = pd.DataFrame(columns=['label', 'label_name', 'text'])\n",
    "emails['label'] = [y for y in y]\n",
    "emails['label_name'] = emails.apply (lambda row: 'ham' if row.label == 0 else 'spam', axis=1)\n",
    "emails['text'] = [x for x in X]\n",
    "\n",
    "print(\"done!\")"
   ]
  },
  {
   "cell_type": "markdown",
   "metadata": {},
   "source": [
    "## <a class=\"anchor\" id=\"eda\">Exploratory Data Analysis</a>"
   ]
  },
  {
   "cell_type": "markdown",
   "metadata": {},
   "source": [
    "### Reviewing the dataset"
   ]
  },
  {
   "cell_type": "markdown",
   "metadata": {},
   "source": [
    "Checking contents and statistics of the dataset using head(), describe() and info()"
   ]
  },
  {
   "cell_type": "code",
   "execution_count": 214,
   "metadata": {},
   "outputs": [
    {
     "data": {
      "text/html": [
       "<div>\n",
       "<style scoped>\n",
       "    .dataframe tbody tr th:only-of-type {\n",
       "        vertical-align: middle;\n",
       "    }\n",
       "\n",
       "    .dataframe tbody tr th {\n",
       "        vertical-align: top;\n",
       "    }\n",
       "\n",
       "    .dataframe thead th {\n",
       "        text-align: right;\n",
       "    }\n",
       "</style>\n",
       "<table border=\"1\" class=\"dataframe\">\n",
       "  <thead>\n",
       "    <tr style=\"text-align: right;\">\n",
       "      <th></th>\n",
       "      <th>label</th>\n",
       "      <th>label_name</th>\n",
       "      <th>text</th>\n",
       "    </tr>\n",
       "  </thead>\n",
       "  <tbody>\n",
       "    <tr>\n",
       "      <th>0</th>\n",
       "      <td>0.0</td>\n",
       "      <td>ham</td>\n",
       "      <td>b'Subject: nesa / hea \\' s 24 th annual meetin...</td>\n",
       "    </tr>\n",
       "    <tr>\n",
       "      <th>1</th>\n",
       "      <td>0.0</td>\n",
       "      <td>ham</td>\n",
       "      <td>b'Subject: meter 1431 - nov 1999\\r\\ndaren -\\r\\...</td>\n",
       "    </tr>\n",
       "    <tr>\n",
       "      <th>2</th>\n",
       "      <td>1.0</td>\n",
       "      <td>spam</td>\n",
       "      <td>b\"Subject: investor here .\\r\\nfrom : mr . rich...</td>\n",
       "    </tr>\n",
       "    <tr>\n",
       "      <th>3</th>\n",
       "      <td>1.0</td>\n",
       "      <td>spam</td>\n",
       "      <td>b\"Subject: hi paliourg all available meds . av...</td>\n",
       "    </tr>\n",
       "    <tr>\n",
       "      <th>4</th>\n",
       "      <td>0.0</td>\n",
       "      <td>ham</td>\n",
       "      <td>b'Subject: january nominations at shell deer p...</td>\n",
       "    </tr>\n",
       "  </tbody>\n",
       "</table>\n",
       "</div>"
      ],
      "text/plain": [
       "   label label_name                                               text\n",
       "0    0.0        ham  b'Subject: nesa / hea \\' s 24 th annual meetin...\n",
       "1    0.0        ham  b'Subject: meter 1431 - nov 1999\\r\\ndaren -\\r\\...\n",
       "2    1.0       spam  b\"Subject: investor here .\\r\\nfrom : mr . rich...\n",
       "3    1.0       spam  b\"Subject: hi paliourg all available meds . av...\n",
       "4    0.0        ham  b'Subject: january nominations at shell deer p..."
      ]
     },
     "execution_count": 214,
     "metadata": {},
     "output_type": "execute_result"
    }
   ],
   "source": [
    "# Checking the data to work with, it contains a label represented by an integer index, a label name, and text contents of each email.\n",
    "emails.head()"
   ]
  },
  {
   "cell_type": "code",
   "execution_count": 215,
   "metadata": {},
   "outputs": [
    {
     "data": {
      "text/html": [
       "<div>\n",
       "<style scoped>\n",
       "    .dataframe tbody tr th:only-of-type {\n",
       "        vertical-align: middle;\n",
       "    }\n",
       "\n",
       "    .dataframe tbody tr th {\n",
       "        vertical-align: top;\n",
       "    }\n",
       "\n",
       "    .dataframe thead th {\n",
       "        text-align: right;\n",
       "    }\n",
       "</style>\n",
       "<table border=\"1\" class=\"dataframe\">\n",
       "  <thead>\n",
       "    <tr style=\"text-align: right;\">\n",
       "      <th></th>\n",
       "      <th>label</th>\n",
       "    </tr>\n",
       "  </thead>\n",
       "  <tbody>\n",
       "    <tr>\n",
       "      <th>count</th>\n",
       "      <td>5172.000000</td>\n",
       "    </tr>\n",
       "    <tr>\n",
       "      <th>mean</th>\n",
       "      <td>0.290023</td>\n",
       "    </tr>\n",
       "    <tr>\n",
       "      <th>std</th>\n",
       "      <td>0.453817</td>\n",
       "    </tr>\n",
       "    <tr>\n",
       "      <th>min</th>\n",
       "      <td>0.000000</td>\n",
       "    </tr>\n",
       "    <tr>\n",
       "      <th>25%</th>\n",
       "      <td>0.000000</td>\n",
       "    </tr>\n",
       "    <tr>\n",
       "      <th>50%</th>\n",
       "      <td>0.000000</td>\n",
       "    </tr>\n",
       "    <tr>\n",
       "      <th>75%</th>\n",
       "      <td>1.000000</td>\n",
       "    </tr>\n",
       "    <tr>\n",
       "      <th>max</th>\n",
       "      <td>1.000000</td>\n",
       "    </tr>\n",
       "  </tbody>\n",
       "</table>\n",
       "</div>"
      ],
      "text/plain": [
       "             label\n",
       "count  5172.000000\n",
       "mean      0.290023\n",
       "std       0.453817\n",
       "min       0.000000\n",
       "25%       0.000000\n",
       "50%       0.000000\n",
       "75%       1.000000\n",
       "max       1.000000"
      ]
     },
     "execution_count": 215,
     "metadata": {},
     "output_type": "execute_result"
    }
   ],
   "source": [
    "# Checking for total number of rows (email records)\n",
    "emails.describe()"
   ]
  },
  {
   "cell_type": "code",
   "execution_count": 216,
   "metadata": {},
   "outputs": [
    {
     "name": "stdout",
     "output_type": "stream",
     "text": [
      "<class 'pandas.core.frame.DataFrame'>\n",
      "RangeIndex: 5172 entries, 0 to 5171\n",
      "Data columns (total 3 columns):\n",
      " #   Column      Non-Null Count  Dtype  \n",
      "---  ------      --------------  -----  \n",
      " 0   label       5172 non-null   float64\n",
      " 1   label_name  5172 non-null   object \n",
      " 2   text        5172 non-null   object \n",
      "dtypes: float64(1), object(2)\n",
      "memory usage: 121.3+ KB\n"
     ]
    }
   ],
   "source": [
    "# Checking for data types\n",
    "emails.info()"
   ]
  },
  {
   "cell_type": "markdown",
   "metadata": {},
   "source": [
    "Checking the number of emails that are spam vs. ham"
   ]
  },
  {
   "cell_type": "code",
   "execution_count": 217,
   "metadata": {},
   "outputs": [
    {
     "data": {
      "text/plain": [
       "<AxesSubplot:xlabel='label_name', ylabel='count'>"
      ]
     },
     "execution_count": 217,
     "metadata": {},
     "output_type": "execute_result"
    },
    {
     "data": {
      "image/png": "[encoded data removed]",
      "text/plain": [
       "<Figure size 432x288 with 1 Axes>"
      ]
     },
     "metadata": {
      "needs_background": "light"
     },
     "output_type": "display_data"
    }
   ],
   "source": [
    "sns.countplot(x='label_name',data=emails)"
   ]
  },
  {
   "cell_type": "code",
   "execution_count": 218,
   "metadata": {},
   "outputs": [
    {
     "data": {
      "text/html": [
       "<div>\n",
       "<style scoped>\n",
       "    .dataframe tbody tr th:only-of-type {\n",
       "        vertical-align: middle;\n",
       "    }\n",
       "\n",
       "    .dataframe tbody tr th {\n",
       "        vertical-align: top;\n",
       "    }\n",
       "\n",
       "    .dataframe thead tr th {\n",
       "        text-align: left;\n",
       "    }\n",
       "\n",
       "    .dataframe thead tr:last-of-type th {\n",
       "        text-align: right;\n",
       "    }\n",
       "</style>\n",
       "<table border=\"1\" class=\"dataframe\">\n",
       "  <thead>\n",
       "    <tr>\n",
       "      <th></th>\n",
       "      <th colspan=\"8\" halign=\"left\">label</th>\n",
       "    </tr>\n",
       "    <tr>\n",
       "      <th></th>\n",
       "      <th>count</th>\n",
       "      <th>mean</th>\n",
       "      <th>std</th>\n",
       "      <th>min</th>\n",
       "      <th>25%</th>\n",
       "      <th>50%</th>\n",
       "      <th>75%</th>\n",
       "      <th>max</th>\n",
       "    </tr>\n",
       "    <tr>\n",
       "      <th>label_name</th>\n",
       "      <th></th>\n",
       "      <th></th>\n",
       "      <th></th>\n",
       "      <th></th>\n",
       "      <th></th>\n",
       "      <th></th>\n",
       "      <th></th>\n",
       "      <th></th>\n",
       "    </tr>\n",
       "  </thead>\n",
       "  <tbody>\n",
       "    <tr>\n",
       "      <th>ham</th>\n",
       "      <td>3672.0</td>\n",
       "      <td>0.0</td>\n",
       "      <td>0.0</td>\n",
       "      <td>0.0</td>\n",
       "      <td>0.0</td>\n",
       "      <td>0.0</td>\n",
       "      <td>0.0</td>\n",
       "      <td>0.0</td>\n",
       "    </tr>\n",
       "    <tr>\n",
       "      <th>spam</th>\n",
       "      <td>1500.0</td>\n",
       "      <td>1.0</td>\n",
       "      <td>0.0</td>\n",
       "      <td>1.0</td>\n",
       "      <td>1.0</td>\n",
       "      <td>1.0</td>\n",
       "      <td>1.0</td>\n",
       "      <td>1.0</td>\n",
       "    </tr>\n",
       "  </tbody>\n",
       "</table>\n",
       "</div>"
      ],
      "text/plain": [
       "             label                                   \n",
       "             count mean  std  min  25%  50%  75%  max\n",
       "label_name                                           \n",
       "ham         3672.0  0.0  0.0  0.0  0.0  0.0  0.0  0.0\n",
       "spam        1500.0  1.0  0.0  1.0  1.0  1.0  1.0  1.0"
      ]
     },
     "execution_count": 218,
     "metadata": {},
     "output_type": "execute_result"
    }
   ],
   "source": [
    "# Contents by label (ham or spam)\n",
    "emails.groupby('label_name').describe()"
   ]
  },
  {
   "cell_type": "markdown",
   "metadata": {},
   "source": [
    "### Length Analysis\n",
    "It's useful to review the length of the emails, as it could be an good indicator of whether an email can be classified as spam or not."
   ]
  },
  {
   "cell_type": "code",
   "execution_count": 219,
   "metadata": {},
   "outputs": [
    {
     "data": {
      "text/html": [
       "<div>\n",
       "<style scoped>\n",
       "    .dataframe tbody tr th:only-of-type {\n",
       "        vertical-align: middle;\n",
       "    }\n",
       "\n",
       "    .dataframe tbody tr th {\n",
       "        vertical-align: top;\n",
       "    }\n",
       "\n",
       "    .dataframe thead th {\n",
       "        text-align: right;\n",
       "    }\n",
       "</style>\n",
       "<table border=\"1\" class=\"dataframe\">\n",
       "  <thead>\n",
       "    <tr style=\"text-align: right;\">\n",
       "      <th></th>\n",
       "      <th>label</th>\n",
       "      <th>label_name</th>\n",
       "      <th>text</th>\n",
       "      <th>text_length</th>\n",
       "    </tr>\n",
       "  </thead>\n",
       "  <tbody>\n",
       "    <tr>\n",
       "      <th>0</th>\n",
       "      <td>0.0</td>\n",
       "      <td>ham</td>\n",
       "      <td>b'Subject: nesa / hea \\' s 24 th annual meetin...</td>\n",
       "      <td>2246</td>\n",
       "    </tr>\n",
       "    <tr>\n",
       "      <th>1</th>\n",
       "      <td>0.0</td>\n",
       "      <td>ham</td>\n",
       "      <td>b'Subject: meter 1431 - nov 1999\\r\\ndaren -\\r\\...</td>\n",
       "      <td>881</td>\n",
       "    </tr>\n",
       "    <tr>\n",
       "      <th>2</th>\n",
       "      <td>1.0</td>\n",
       "      <td>spam</td>\n",
       "      <td>b\"Subject: investor here .\\r\\nfrom : mr . rich...</td>\n",
       "      <td>2445</td>\n",
       "    </tr>\n",
       "    <tr>\n",
       "      <th>3</th>\n",
       "      <td>1.0</td>\n",
       "      <td>spam</td>\n",
       "      <td>b\"Subject: hi paliourg all available meds . av...</td>\n",
       "      <td>2196</td>\n",
       "    </tr>\n",
       "    <tr>\n",
       "      <th>4</th>\n",
       "      <td>0.0</td>\n",
       "      <td>ham</td>\n",
       "      <td>b'Subject: january nominations at shell deer p...</td>\n",
       "      <td>1496</td>\n",
       "    </tr>\n",
       "  </tbody>\n",
       "</table>\n",
       "</div>"
      ],
      "text/plain": [
       "   label label_name                                               text  \\\n",
       "0    0.0        ham  b'Subject: nesa / hea \\' s 24 th annual meetin...   \n",
       "1    0.0        ham  b'Subject: meter 1431 - nov 1999\\r\\ndaren -\\r\\...   \n",
       "2    1.0       spam  b\"Subject: investor here .\\r\\nfrom : mr . rich...   \n",
       "3    1.0       spam  b\"Subject: hi paliourg all available meds . av...   \n",
       "4    0.0        ham  b'Subject: january nominations at shell deer p...   \n",
       "\n",
       "   text_length  \n",
       "0         2246  \n",
       "1          881  \n",
       "2         2445  \n",
       "3         2196  \n",
       "4         1496  "
      ]
     },
     "execution_count": 219,
     "metadata": {},
     "output_type": "execute_result"
    }
   ],
   "source": [
    "# Checking if length could be an additional feature of importance\n",
    "emails['text_length'] = emails['text'].apply(len)\n",
    "emails.head()"
   ]
  },
  {
   "cell_type": "code",
   "execution_count": 220,
   "metadata": {},
   "outputs": [
    {
     "data": {
      "text/plain": [
       "count     5172.000000\n",
       "mean      1048.877224\n",
       "std       1528.670906\n",
       "min         11.000000\n",
       "25%        244.000000\n",
       "50%        540.000000\n",
       "75%       1237.000000\n",
       "max      32258.000000\n",
       "Name: text_length, dtype: float64"
      ]
     },
     "execution_count": 220,
     "metadata": {},
     "output_type": "execute_result"
    }
   ],
   "source": [
    "emails['text_length'].describe()"
   ]
  },
  {
   "cell_type": "code",
   "execution_count": 221,
   "metadata": {},
   "outputs": [
    {
     "data": {
      "text/plain": [
       "<seaborn.axisgrid.FacetGrid at 0x7fcac7da5730>"
      ]
     },
     "execution_count": 221,
     "metadata": {},
     "output_type": "execute_result"
    },
    {
     "data": {
      "image/png": "[encoded data removed]",
      "text/plain": [
       "<Figure size 840.4x252 with 2 Axes>"
      ]
     },
     "metadata": {
      "needs_background": "light"
     },
     "output_type": "display_data"
    }
   ],
   "source": [
    "g = sns.FacetGrid(emails, col=\"label_name\", margin_titles=True, height=3.5, aspect=1.65) \n",
    "g.map(sns.histplot,\"text_length\")\n",
    "g.set_axis_labels(\"Text Length\", \"Count\")\n",
    "g.add_legend()"
   ]
  },
  {
   "cell_type": "code",
   "execution_count": 222,
   "metadata": {},
   "outputs": [
    {
     "data": {
      "text/plain": [
       "<AxesSubplot:title={'center':'Histogram Log Scale'}, xlabel='text_length', ylabel='Count'>"
      ]
     },
     "execution_count": 222,
     "metadata": {},
     "output_type": "execute_result"
    },
    {
     "data": {
      "image/png": "[encoded data removed]",
      "text/plain": [
       "<Figure size 720x360 with 2 Axes>"
      ]
     },
     "metadata": {
      "needs_background": "light"
     },
     "output_type": "display_data"
    }
   ],
   "source": [
    "fig, axes = plt.subplots(1, 2, sharex=True, figsize=(10,5))\n",
    "fig.suptitle('Distribution of email text_length by label name')\n",
    "axes[0].set_title('Histogram')\n",
    "axes[1].set_title('Histogram Log Scale')\n",
    "sns.histplot(ax=axes[0],x=emails['text_length'], hue=emails['label_name'],kde=True, log_scale=False)\n",
    "sns.histplot(ax=axes[1],x=emails['text_length'], hue=emails['label_name'],kde=False, log_scale=True)"
   ]
  },
  {
   "cell_type": "markdown",
   "metadata": {},
   "source": [
    "## <a class=\"anchor\" id=\"feature_engineering\">Feature Engineering</a>"
   ]
  },
  {
   "cell_type": "markdown",
   "metadata": {},
   "source": [
    "### Review Data Types"
   ]
  },
  {
   "cell_type": "markdown",
   "metadata": {},
   "source": [
    "Before we can manipulate the data, we have to make sure their data types are updated"
   ]
  },
  {
   "cell_type": "code",
   "execution_count": 223,
   "metadata": {},
   "outputs": [
    {
     "name": "stdout",
     "output_type": "stream",
     "text": [
      "<class 'pandas.core.frame.DataFrame'>\n",
      "RangeIndex: 5172 entries, 0 to 5171\n",
      "Data columns (total 4 columns):\n",
      " #   Column       Non-Null Count  Dtype  \n",
      "---  ------       --------------  -----  \n",
      " 0   label        5172 non-null   float64\n",
      " 1   label_name   5172 non-null   string \n",
      " 2   text         5172 non-null   string \n",
      " 3   text_length  5172 non-null   int64  \n",
      "dtypes: float64(1), int64(1), string(2)\n",
      "memory usage: 161.8 KB\n"
     ]
    }
   ],
   "source": [
    "# Convert object data types to string\n",
    "emails = emails.astype({'label_name': 'string', 'text': 'string'})\n",
    "emails.info()\n"
   ]
  },
  {
   "cell_type": "markdown",
   "metadata": {},
   "source": [
    "### Text Pre-processing"
   ]
  },
  {
   "cell_type": "markdown",
   "metadata": {},
   "source": [
    "Emails texts need to be pre-processed before we can feed them to a machine learning algorithm for training. Here are the things we need to take care of:\n",
    "1. Remove the 'b' character in the beggining of each text\n",
    "2. Remove Special symbols such as \\r, \\n, \\t\n",
    "3. Remove Punctuation marks\n",
    "4. Remove Stopwords\n",
    "5. Convert all text to lowercase\n",
    "6. Stemming or Lemmatization (Optional)"
   ]
  },
  {
   "cell_type": "code",
   "execution_count": 224,
   "metadata": {},
   "outputs": [
    {
     "data": {
      "text/plain": [
       "'b\\'Subject: nesa / hea \\\\\\' s 24 th annual meeting\\\\r\\\\nsaddle up for nesa / hea \\\\\\' s 24 th annual meeting\\\\r\\\\n\" deep in the heart of texas \"\\\\r\\\\nseptember 9 - 11 , 2001\\\\r\\\\nhyatt regency hill country resort\\\\r\\\\nsan antonio , texas\\\\r\\\\nthe annual meeting planning committee has put together an outstanding\\\\r\\\\nprogram for your review . it is attached below in an adobe acrobat pdf file\\\\r\\\\n- if you have problems with the attachment please call nesa / hea\\\\r\\\\nheadquarters at ( 713 ) 856 - 6525 and we \\\\\\' ll mail or fax a copy out immediately .\\\\r\\\\ngeneral session topics include :\\\\r\\\\n* will tomorrow \\\\\\' s restructured electric infrastructure support\\\\r\\\\ntomorrow \\\\\\' s economy ?\\\\r\\\\n* power deregulation panel : developer / ipp , utility / transmission , power\\\\r\\\\nmarketer , government , retail\\\\r\\\\n* power demand\\\\r\\\\n* the state of the energy industry\\\\r\\\\n* new political administration - impact on energy policy and\\\\r\\\\nenvironment\\\\r\\\\nnetworking opportunities :\\\\r\\\\n* opening reception - sunday , september 9\\\\r\\\\n* golf tournament & tours of area attractions - monday , september 10\\\\r\\\\nthe hyatt regency hill country resort has a limited block of rooms available\\\\r\\\\nfor nesa / hea members and guests - be sure to check page 6 for lodging\\\\r\\\\ninformation and make your reservation as soon as possible .\\\\r\\\\nwe hope that you take this opportunity to meet with your colleagues and\\\\r\\\\ncustomers in this relaxing yet professional environment to exchange ideas on\\\\r\\\\nmatters of importance covering a broad spectrum of subjects . the annual\\\\r\\\\nmeeting agenda includes timely issues presented by knowledgeable industry\\\\r\\\\nleaders who will discuss formidable and thought provoking issues affecting\\\\r\\\\nthe energy industry today .\\\\r\\\\nplease take a moment to review the attached brochure . nesa / hea encourages\\\\r\\\\nand appreciates you taking the time to pass the brochure on to industry\\\\r\\\\npersonnel who would benefit from participating at this conference .\\\\r\\\\nnesa / hea \\\\\\' s 24 th annual meeting\\\\r\\\\neducating the energy professional\\\\r\\\\nto unsubscribe from the nesa / hea member email blast list please respond to\\\\r\\\\nthis email with the word unsubscribe typed into the subject field . this\\\\r\\\\nwill preclude you from receiving any email blasts in the future , but hard\\\\r\\\\ncopies of the material will be sent to your attention .\\\\r\\\\n>\\\\r\\\\n- 512 _ nesa 2001 annlmtgjam . pdf\\''"
      ]
     },
     "execution_count": 224,
     "metadata": {},
     "output_type": "execute_result"
    }
   ],
   "source": [
    "# Sample raw email text\n",
    "emails['text'][0]"
   ]
  },
  {
   "cell_type": "markdown",
   "metadata": {},
   "source": [
    "The following function takes care of all the pre-processing steps:"
   ]
  },
  {
   "cell_type": "code",
   "execution_count": 225,
   "metadata": {},
   "outputs": [],
   "source": [
    "def email_text_preprocessing(document_text,text_normalization='none'):\n",
    "    '''\n",
    "    :param str document: document to be pre-processed in text format.\n",
    "    :param str text_normalization: It defines the type of normalization to be applied, possible values are: 'none', 'stemming', 'lemmatization'\n",
    "    1. Remove b' characters that appear at the beggining of each email\n",
    "    2. Remove special characters\n",
    "    3. Remove punctuation marks\n",
    "    4. Remove stopwords\n",
    "    5. Stem, Lemmatize text, or do nothing else.\n",
    "    '''\n",
    "    alt_text = re.sub(r'^b\\'?', '', document_text)\n",
    "    alt_text = re.sub(r'\\\\r\\\\n', ' ', alt_text)\n",
    "    alt_text = re.sub(r'\\s+',' ',alt_text)\n",
    "    no_punct = [char for char in alt_text if char not in string.punctuation]\n",
    "    no_punct = ''.join(no_punct)\n",
    "    no_stopwords = [word for word in no_punct.split() if word.lower() not in stopwords.words('english')]\n",
    "    res_text = None\n",
    "    if text_normalization == 'stemming':\n",
    "        stemmer = PorterStemmer()\n",
    "        stemmed = [stemmer.stem(word) for word in no_stopwords]\n",
    "        stemmed = ' '.join(stemmed)\n",
    "        res_text = stemmed\n",
    "    elif text_normalization == 'lemmatization':\n",
    "        lemmatizer = WordNetLemmatizer()\n",
    "        lemmatized = [lemmatizer.lemmatize(word) for word in no_stopwords]\n",
    "        lemmatized = ' '.join(lemmatized)\n",
    "        res_text = lemmatized\n",
    "    else:\n",
    "        res_text = ' '.join(no_stopwords)\n",
    "\n",
    "    return res_text"
   ]
  },
  {
   "cell_type": "markdown",
   "metadata": {},
   "source": [
    "Test the function against a single email"
   ]
  },
  {
   "cell_type": "code",
   "execution_count": 226,
   "metadata": {},
   "outputs": [
    {
     "name": "stdout",
     "output_type": "stream",
     "text": [
      "Before pre-processing:\n",
      "b'Subject: rates\\r\\ndaren -\\r\\nrates for september :\\r\\nt - ville interconnects to equistar channelview $ . 15\\r\\nagua dulce interconnects to equistar channelview $ . 13\\r\\nlet me know if you get something done or need quotes on something else ! term rate on # 6461 to follow .'\n",
      "***************\n",
      "After pre-processing:\n",
      "Subject rates daren rates september ville interconnects equistar channelview 15 agua dulce interconnects equistar channelview 13 let know get something done need quotes something else term rate 6461 follow\n",
      "***************\n",
      "After pre-processing with Stemming:\n",
      "subject rate daren rate septemb vill interconnect equistar channelview 15 agua dulc interconnect equistar channelview 13 let know get someth done need quot someth els term rate 6461 follow\n",
      "***************\n",
      "After pre-processing with Lemmatization:\n",
      "subject rate daren rate septemb vill interconnect equistar channelview 15 agua dulc interconnect equistar channelview 13 let know get someth done need quot someth el term rate 6461 follow\n"
     ]
    }
   ],
   "source": [
    "test_text = str(emails['text'][10])\n",
    "print(\"Before pre-processing:\")\n",
    "print(test_text)\n",
    "print('***************')\n",
    "print(\"After pre-processing:\")\n",
    "test_text = email_text_preprocessing(test_text)\n",
    "print(test_text)\n",
    "print('***************')\n",
    "print(\"After pre-processing with Stemming:\")\n",
    "test_text = email_text_preprocessing(test_text, text_normalization='stemming')\n",
    "print(test_text)\n",
    "print('***************')\n",
    "print(\"After pre-processing with Lemmatization:\")\n",
    "test_text = email_text_preprocessing(test_text, text_normalization='lemmatization')\n",
    "print(test_text)"
   ]
  },
  {
   "cell_type": "markdown",
   "metadata": {},
   "source": [
    "Later on, I'll apply the processing function to all the data as part of a processing pipeline."
   ]
  },
  {
   "cell_type": "code",
   "execution_count": 227,
   "metadata": {},
   "outputs": [
    {
     "data": {
      "text/html": [
       "<div>\n",
       "<style scoped>\n",
       "    .dataframe tbody tr th:only-of-type {\n",
       "        vertical-align: middle;\n",
       "    }\n",
       "\n",
       "    .dataframe tbody tr th {\n",
       "        vertical-align: top;\n",
       "    }\n",
       "\n",
       "    .dataframe thead th {\n",
       "        text-align: right;\n",
       "    }\n",
       "</style>\n",
       "<table border=\"1\" class=\"dataframe\">\n",
       "  <thead>\n",
       "    <tr style=\"text-align: right;\">\n",
       "      <th></th>\n",
       "      <th>label</th>\n",
       "      <th>label_name</th>\n",
       "      <th>text</th>\n",
       "      <th>text_length</th>\n",
       "      <th>preprocessed_text_simple</th>\n",
       "      <th>preprocessed_text_stemmed</th>\n",
       "      <th>preprocessed_text_lemmatized</th>\n",
       "    </tr>\n",
       "  </thead>\n",
       "  <tbody>\n",
       "    <tr>\n",
       "      <th>0</th>\n",
       "      <td>0.0</td>\n",
       "      <td>ham</td>\n",
       "      <td>b'Subject: nesa / hea \\' s 24 th annual meetin...</td>\n",
       "      <td>2246</td>\n",
       "      <td>Subject nesa hea 24 th annual meeting saddle n...</td>\n",
       "      <td>subject nesa hea 24 th annual meet saddl nesa ...</td>\n",
       "      <td>Subject nesa hea 24 th annual meeting saddle n...</td>\n",
       "    </tr>\n",
       "    <tr>\n",
       "      <th>1</th>\n",
       "      <td>0.0</td>\n",
       "      <td>ham</td>\n",
       "      <td>b'Subject: meter 1431 - nov 1999\\r\\ndaren -\\r\\...</td>\n",
       "      <td>881</td>\n",
       "      <td>Subject meter 1431 nov 1999 daren could please...</td>\n",
       "      <td>subject meter 1431 nov 1999 daren could pleas ...</td>\n",
       "      <td>Subject meter 1431 nov 1999 daren could please...</td>\n",
       "    </tr>\n",
       "    <tr>\n",
       "      <th>2</th>\n",
       "      <td>1.0</td>\n",
       "      <td>spam</td>\n",
       "      <td>b\"Subject: investor here .\\r\\nfrom : mr . rich...</td>\n",
       "      <td>2445</td>\n",
       "      <td>Subject investor mr richard mayer dear friend ...</td>\n",
       "      <td>subject investor mr richard mayer dear friend ...</td>\n",
       "      <td>Subject investor mr richard mayer dear friend ...</td>\n",
       "    </tr>\n",
       "    <tr>\n",
       "      <th>3</th>\n",
       "      <td>1.0</td>\n",
       "      <td>spam</td>\n",
       "      <td>b\"Subject: hi paliourg all available meds . av...</td>\n",
       "      <td>2196</td>\n",
       "      <td>Subject hi paliourg available meds available b...</td>\n",
       "      <td>subject hi paliourg avail med avail binaur cvo...</td>\n",
       "      <td>Subject hi paliourg available med available bi...</td>\n",
       "    </tr>\n",
       "    <tr>\n",
       "      <th>4</th>\n",
       "      <td>0.0</td>\n",
       "      <td>ham</td>\n",
       "      <td>b'Subject: january nominations at shell deer p...</td>\n",
       "      <td>1496</td>\n",
       "      <td>Subject january nominations shell deer park fy...</td>\n",
       "      <td>subject januari nomin shell deer park fyi requ...</td>\n",
       "      <td>Subject january nomination shell deer park fyi...</td>\n",
       "    </tr>\n",
       "  </tbody>\n",
       "</table>\n",
       "</div>"
      ],
      "text/plain": [
       "   label label_name                                               text  \\\n",
       "0    0.0        ham  b'Subject: nesa / hea \\' s 24 th annual meetin...   \n",
       "1    0.0        ham  b'Subject: meter 1431 - nov 1999\\r\\ndaren -\\r\\...   \n",
       "2    1.0       spam  b\"Subject: investor here .\\r\\nfrom : mr . rich...   \n",
       "3    1.0       spam  b\"Subject: hi paliourg all available meds . av...   \n",
       "4    0.0        ham  b'Subject: january nominations at shell deer p...   \n",
       "\n",
       "   text_length                           preprocessed_text_simple  \\\n",
       "0         2246  Subject nesa hea 24 th annual meeting saddle n...   \n",
       "1          881  Subject meter 1431 nov 1999 daren could please...   \n",
       "2         2445  Subject investor mr richard mayer dear friend ...   \n",
       "3         2196  Subject hi paliourg available meds available b...   \n",
       "4         1496  Subject january nominations shell deer park fy...   \n",
       "\n",
       "                           preprocessed_text_stemmed  \\\n",
       "0  subject nesa hea 24 th annual meet saddl nesa ...   \n",
       "1  subject meter 1431 nov 1999 daren could pleas ...   \n",
       "2  subject investor mr richard mayer dear friend ...   \n",
       "3  subject hi paliourg avail med avail binaur cvo...   \n",
       "4  subject januari nomin shell deer park fyi requ...   \n",
       "\n",
       "                        preprocessed_text_lemmatized  \n",
       "0  Subject nesa hea 24 th annual meeting saddle n...  \n",
       "1  Subject meter 1431 nov 1999 daren could please...  \n",
       "2  Subject investor mr richard mayer dear friend ...  \n",
       "3  Subject hi paliourg available med available bi...  \n",
       "4  Subject january nomination shell deer park fyi...  "
      ]
     },
     "execution_count": 227,
     "metadata": {},
     "output_type": "execute_result"
    }
   ],
   "source": [
    "#Create new column in data frame with pre-proccesed text (simple)\n",
    "emails['preprocessed_text_simple'] = ''\n",
    "emails.astype({'preprocessed_text_simple': 'string'}).dtypes\n",
    "emails['preprocessed_text_simple'] = emails['text']\n",
    "emails['preprocessed_text_simple'] = emails['preprocessed_text_simple'].apply(lambda x: email_text_preprocessing(str(x), text_normalization='none'))\n",
    "\n",
    "#Create new column in data frame with pre-proccesed text (stemmed)\n",
    "emails['preprocessed_text_stemmed'] = ''\n",
    "emails.astype({'preprocessed_text_stemmed': 'string'}).dtypes\n",
    "emails['preprocessed_text_stemmed'] = emails['text']\n",
    "emails['preprocessed_text_stemmed'] = emails['preprocessed_text_stemmed'].apply(lambda x: email_text_preprocessing(str(x), text_normalization='stemming'))\n",
    "\n",
    "#Create new column in data frame with pre-proccesed text (lemmatized)\n",
    "emails['preprocessed_text_lemmatized'] = ''\n",
    "emails.astype({'preprocessed_text_lemmatized': 'string'}).dtypes\n",
    "emails['preprocessed_text_lemmatized'] = emails['text']\n",
    "emails['preprocessed_text_lemmatized'] = emails['preprocessed_text_lemmatized'].apply(lambda x: email_text_preprocessing(str(x), text_normalization='lemmatization'))\n",
    "\n",
    "emails.head()"
   ]
  },
  {
   "cell_type": "markdown",
   "metadata": {},
   "source": [
    "### Vectorization"
   ]
  },
  {
   "cell_type": "markdown",
   "metadata": {},
   "source": [
    "Most machine learning algorithms, and most deep learning frameworks are not capable of processing strings of text. They require numerical numbers as inputs to perform their tasks (in this case, spam classification). In Natural Language Processing, word embeddings or word vectorization is a methodology used to convert text into numerical vectors.\n",
    "\n",
    "In order to get the email text data ready to be processed, the following techniques will be applied:\n",
    "* **Bag of words** - To convert each email text from the whole corpus into a numeric vector. Numbers are based on counting word occurrence in each email. It doesn't preserve the word order\n",
    "* **TF-IDF (Term Frequency - Inverse Document Frequency)** - To consider the importance of each word within each email and the whole corpus. It generates weights that signify how important a word is for a given email."
   ]
  },
  {
   "cell_type": "code",
   "execution_count": 228,
   "metadata": {},
   "outputs": [
    {
     "name": "stdout",
     "output_type": "stream",
     "text": [
      "BOW Shape: (1, 23)\n",
      "Amount of Non-Zero occurences:  23\n"
     ]
    }
   ],
   "source": [
    "# Bag of words for a sample sentence\n",
    "sample_bow_df =  pd.DataFrame(columns=['text'])\n",
    "sample_bow_df = sample_bow_df.astype({'text': 'string'})\n",
    "sample_bow_df = sample_bow_df.append({ 'text' : email_text_preprocessing(test_text, text_normalization='none')},ignore_index = True)\n",
    "sample_bow_df.head(10)\n",
    "sample_bow = CountVectorizer().fit_transform(sample_bow_df['text'])\n",
    "print(f\"BOW Shape: {sample_bow.shape}\")\n",
    "print('Amount of Non-Zero occurences: ', sample_bow.nnz)"
   ]
  },
  {
   "cell_type": "code",
   "execution_count": 229,
   "metadata": {},
   "outputs": [
    {
     "name": "stdout",
     "output_type": "stream",
     "text": [
      "TF-IDF Vector shape: (1, 23)\n"
     ]
    }
   ],
   "source": [
    "# TF-IDF from Bag or Words\n",
    "vectors = TfidfTransformer().fit_transform(sample_bow)\n",
    "vectors_list = vectors.todense().tolist()\n",
    "print(f\"TF-IDF Vector shape: {vectors.shape}\")\n"
   ]
  },
  {
   "cell_type": "markdown",
   "metadata": {},
   "source": [
    "## <a class=\"anchor\" id=\"train\">Model Training</a>"
   ]
  },
  {
   "cell_type": "markdown",
   "metadata": {},
   "source": [
    "### Creating a Data Pipeline"
   ]
  },
  {
   "cell_type": "markdown",
   "metadata": {},
   "source": [
    "Now that we have a way to transform the raw email text data into numeric vectors, that can be passed to machine learning algorithms. It is convenient to put all the processing, alongside the model training, into a data pipeline. A pipeline will concatenate the outputs of all the data manipulations (Transformers), and then also pass it as an input to a given Estimator (algorithm).\n",
    "\n",
    "For local training, I will be using the following estimators from scikit-learn:\n",
    "* Naive Bayes\n",
    "* SVM Linear classifier with SGD\n",
    "* K-nearest neighbors\n",
    "* Random Forest"
   ]
  },
  {
   "cell_type": "code",
   "execution_count": 311,
   "metadata": {},
   "outputs": [
    {
     "data": {
      "text/html": [
       "<style>div.sk-top-container {color: black;background-color: white;}div.sk-toggleable {background-color: white;}label.sk-toggleable__label {cursor: pointer;display: block;width: 100%;margin-bottom: 0;padding: 0.2em 0.3em;box-sizing: border-box;text-align: center;}div.sk-toggleable__content {max-height: 0;max-width: 0;overflow: hidden;text-align: left;background-color: #f0f8ff;}div.sk-toggleable__content pre {margin: 0.2em;color: black;border-radius: 0.25em;background-color: #f0f8ff;}input.sk-toggleable__control:checked~div.sk-toggleable__content {max-height: 200px;max-width: 100%;overflow: auto;}div.sk-estimator input.sk-toggleable__control:checked~label.sk-toggleable__label {background-color: #d4ebff;}div.sk-label input.sk-toggleable__control:checked~label.sk-toggleable__label {background-color: #d4ebff;}input.sk-hidden--visually {border: 0;clip: rect(1px 1px 1px 1px);clip: rect(1px, 1px, 1px, 1px);height: 1px;margin: -1px;overflow: hidden;padding: 0;position: absolute;width: 1px;}div.sk-estimator {font-family: monospace;background-color: #f0f8ff;margin: 0.25em 0.25em;border: 1px dotted black;border-radius: 0.25em;box-sizing: border-box;}div.sk-estimator:hover {background-color: #d4ebff;}div.sk-parallel-item::after {content: \"\";width: 100%;border-bottom: 1px solid gray;flex-grow: 1;}div.sk-label:hover label.sk-toggleable__label {background-color: #d4ebff;}div.sk-serial::before {content: \"\";position: absolute;border-left: 1px solid gray;box-sizing: border-box;top: 2em;bottom: 0;left: 50%;}div.sk-serial {display: flex;flex-direction: column;align-items: center;background-color: white;}div.sk-item {z-index: 1;}div.sk-parallel {display: flex;align-items: stretch;justify-content: center;background-color: white;}div.sk-parallel-item {display: flex;flex-direction: column;position: relative;background-color: white;}div.sk-parallel-item:first-child::after {align-self: flex-end;width: 50%;}div.sk-parallel-item:last-child::after {align-self: flex-start;width: 50%;}div.sk-parallel-item:only-child::after {width: 0;}div.sk-dashed-wrapped {border: 1px dashed gray;margin: 0.2em;box-sizing: border-box;padding-bottom: 0.1em;background-color: white;position: relative;}div.sk-label label {font-family: monospace;font-weight: bold;background-color: white;display: inline-block;line-height: 1.2em;}div.sk-label-container {position: relative;z-index: 2;text-align: center;}div.sk-container {display: inline-block;position: relative;}</style><div class=\"sk-top-container\"><div class=\"sk-container\"><div class=\"sk-item sk-dashed-wrapped\"><div class=\"sk-label-container\"><div class=\"sk-label sk-toggleable\"><input class=\"sk-toggleable__control sk-hidden--visually\" id=\"47d10282-e026-4e74-a9e4-780edc43e840\" type=\"checkbox\" ><label class=\"sk-toggleable__label\" for=\"47d10282-e026-4e74-a9e4-780edc43e840\">Pipeline</label><div class=\"sk-toggleable__content\"><pre>Pipeline(steps=[('bow', CountVectorizer()), ('tfidf', TfidfTransformer()),\n",
       "                ('classifier', MultinomialNB())])</pre></div></div></div><div class=\"sk-serial\"><div class=\"sk-item\"><div class=\"sk-estimator sk-toggleable\"><input class=\"sk-toggleable__control sk-hidden--visually\" id=\"af63217c-a671-4e71-8352-114991ac8492\" type=\"checkbox\" ><label class=\"sk-toggleable__label\" for=\"af63217c-a671-4e71-8352-114991ac8492\">CountVectorizer</label><div class=\"sk-toggleable__content\"><pre>CountVectorizer()</pre></div></div></div><div class=\"sk-item\"><div class=\"sk-estimator sk-toggleable\"><input class=\"sk-toggleable__control sk-hidden--visually\" id=\"938edf2a-8a92-4436-a087-7522fdc19fc0\" type=\"checkbox\" ><label class=\"sk-toggleable__label\" for=\"938edf2a-8a92-4436-a087-7522fdc19fc0\">TfidfTransformer</label><div class=\"sk-toggleable__content\"><pre>TfidfTransformer()</pre></div></div></div><div class=\"sk-item\"><div class=\"sk-estimator sk-toggleable\"><input class=\"sk-toggleable__control sk-hidden--visually\" id=\"831e928a-2da7-4662-9e2b-66ef9175bd75\" type=\"checkbox\" ><label class=\"sk-toggleable__label\" for=\"831e928a-2da7-4662-9e2b-66ef9175bd75\">MultinomialNB</label><div class=\"sk-toggleable__content\"><pre>MultinomialNB()</pre></div></div></div></div></div></div></div>"
      ],
      "text/plain": [
       "Pipeline(steps=[('bow', CountVectorizer()), ('tfidf', TfidfTransformer()),\n",
       "                ('classifier', MultinomialNB())])"
      ]
     },
     "execution_count": 311,
     "metadata": {},
     "output_type": "execute_result"
    }
   ],
   "source": [
    "# Create and visualize a simple data pipeline\n",
    "set_config(display='diagram')\n",
    "simple_pipeline = Pipeline([\n",
    "    ('bow', CountVectorizer()),  # Text pre-processing and Bag of words vectorization\n",
    "    ('tfidf', TfidfTransformer()),  # Integer counts to weighted TF-IDF scores\n",
    "    ('classifier', MultinomialNB()),  # Train on TF-IDF vectors using a Naive Bayes classifier\n",
    "])\n",
    "simple_pipeline"
   ]
  },
  {
   "cell_type": "markdown",
   "metadata": {},
   "source": [
    "In order to be able to train different algorithms, it would be good if we can have a function that dinamycally changes the classifier used for training:"
   ]
  },
  {
   "cell_type": "code",
   "execution_count": 278,
   "metadata": {},
   "outputs": [],
   "source": [
    "def build_data_pipeline(classifier='nb', tfidf=True):\n",
    "    classifier_obj = None\n",
    "    if classifier == 'nb':\n",
    "        classifier_obj = MultinomialNB()\n",
    "    elif classifier == 'svm':\n",
    "        classifier_obj = SGDClassifier()\n",
    "    elif classifier == 'knn':\n",
    "        classifier_obj = KNeighborsClassifier()\n",
    "    elif classifier == 'rf':\n",
    "        classifier_obj = RandomForestClassifier()\n",
    "    else:\n",
    "        raise ValueError('Classifier should be one of the following values: nb (Naive Bayes), svm (Support Vector Machine), knn (K-Nearest Neighbors), rf (Random Forest)')\n",
    "    \n",
    "    if tfidf:\n",
    "        pipeline = Pipeline([\n",
    "            ('bow', CountVectorizer()),  # Text pre-processing and Bag of words vectorization\n",
    "            ('tfidf', TfidfTransformer()),  # Integer counts to weighted TF-IDF scores\n",
    "            ('classifier', classifier_obj),  # Train on selected classifier\n",
    "        ])\n",
    "    else:\n",
    "        pipeline = Pipeline([\n",
    "            ('bow', CountVectorizer()),  # Text pre-processing and Bag of words vectorization\n",
    "            ('classifier', classifier_obj),  # Train on selected classifier\n",
    "        ])\n",
    "\n",
    "    return pipeline\n"
   ]
  },
  {
   "cell_type": "code",
   "execution_count": 279,
   "metadata": {},
   "outputs": [
    {
     "data": {
      "text/html": [
       "<style>div.sk-top-container {color: black;background-color: white;}div.sk-toggleable {background-color: white;}label.sk-toggleable__label {cursor: pointer;display: block;width: 100%;margin-bottom: 0;padding: 0.2em 0.3em;box-sizing: border-box;text-align: center;}div.sk-toggleable__content {max-height: 0;max-width: 0;overflow: hidden;text-align: left;background-color: #f0f8ff;}div.sk-toggleable__content pre {margin: 0.2em;color: black;border-radius: 0.25em;background-color: #f0f8ff;}input.sk-toggleable__control:checked~div.sk-toggleable__content {max-height: 200px;max-width: 100%;overflow: auto;}div.sk-estimator input.sk-toggleable__control:checked~label.sk-toggleable__label {background-color: #d4ebff;}div.sk-label input.sk-toggleable__control:checked~label.sk-toggleable__label {background-color: #d4ebff;}input.sk-hidden--visually {border: 0;clip: rect(1px 1px 1px 1px);clip: rect(1px, 1px, 1px, 1px);height: 1px;margin: -1px;overflow: hidden;padding: 0;position: absolute;width: 1px;}div.sk-estimator {font-family: monospace;background-color: #f0f8ff;margin: 0.25em 0.25em;border: 1px dotted black;border-radius: 0.25em;box-sizing: border-box;}div.sk-estimator:hover {background-color: #d4ebff;}div.sk-parallel-item::after {content: \"\";width: 100%;border-bottom: 1px solid gray;flex-grow: 1;}div.sk-label:hover label.sk-toggleable__label {background-color: #d4ebff;}div.sk-serial::before {content: \"\";position: absolute;border-left: 1px solid gray;box-sizing: border-box;top: 2em;bottom: 0;left: 50%;}div.sk-serial {display: flex;flex-direction: column;align-items: center;background-color: white;}div.sk-item {z-index: 1;}div.sk-parallel {display: flex;align-items: stretch;justify-content: center;background-color: white;}div.sk-parallel-item {display: flex;flex-direction: column;position: relative;background-color: white;}div.sk-parallel-item:first-child::after {align-self: flex-end;width: 50%;}div.sk-parallel-item:last-child::after {align-self: flex-start;width: 50%;}div.sk-parallel-item:only-child::after {width: 0;}div.sk-dashed-wrapped {border: 1px dashed gray;margin: 0.2em;box-sizing: border-box;padding-bottom: 0.1em;background-color: white;position: relative;}div.sk-label label {font-family: monospace;font-weight: bold;background-color: white;display: inline-block;line-height: 1.2em;}div.sk-label-container {position: relative;z-index: 2;text-align: center;}div.sk-container {display: inline-block;position: relative;}</style><div class=\"sk-top-container\"><div class=\"sk-container\"><div class=\"sk-item sk-dashed-wrapped\"><div class=\"sk-label-container\"><div class=\"sk-label sk-toggleable\"><input class=\"sk-toggleable__control sk-hidden--visually\" id=\"c0c377e7-88c9-4188-8ebe-3dd39b9b8825\" type=\"checkbox\" ><label class=\"sk-toggleable__label\" for=\"c0c377e7-88c9-4188-8ebe-3dd39b9b8825\">Pipeline</label><div class=\"sk-toggleable__content\"><pre>Pipeline(steps=[('bow', CountVectorizer()), ('tfidf', TfidfTransformer()),\n",
       "                ('classifier', RandomForestClassifier())])</pre></div></div></div><div class=\"sk-serial\"><div class=\"sk-item\"><div class=\"sk-estimator sk-toggleable\"><input class=\"sk-toggleable__control sk-hidden--visually\" id=\"5e9ccd0a-3817-4821-ba05-4dcab35139ac\" type=\"checkbox\" ><label class=\"sk-toggleable__label\" for=\"5e9ccd0a-3817-4821-ba05-4dcab35139ac\">CountVectorizer</label><div class=\"sk-toggleable__content\"><pre>CountVectorizer()</pre></div></div></div><div class=\"sk-item\"><div class=\"sk-estimator sk-toggleable\"><input class=\"sk-toggleable__control sk-hidden--visually\" id=\"1a0990d2-adc4-4b3e-913a-abee376a2ed4\" type=\"checkbox\" ><label class=\"sk-toggleable__label\" for=\"1a0990d2-adc4-4b3e-913a-abee376a2ed4\">TfidfTransformer</label><div class=\"sk-toggleable__content\"><pre>TfidfTransformer()</pre></div></div></div><div class=\"sk-item\"><div class=\"sk-estimator sk-toggleable\"><input class=\"sk-toggleable__control sk-hidden--visually\" id=\"66e92b29-184f-4d96-8671-09822dc4a4e9\" type=\"checkbox\" ><label class=\"sk-toggleable__label\" for=\"66e92b29-184f-4d96-8671-09822dc4a4e9\">RandomForestClassifier</label><div class=\"sk-toggleable__content\"><pre>RandomForestClassifier()</pre></div></div></div></div></div></div></div>"
      ],
      "text/plain": [
       "Pipeline(steps=[('bow', CountVectorizer()), ('tfidf', TfidfTransformer()),\n",
       "                ('classifier', RandomForestClassifier())])"
      ]
     },
     "execution_count": 279,
     "metadata": {},
     "output_type": "execute_result"
    }
   ],
   "source": [
    "# Sample pipeline with a classifier parameter\n",
    "rf_pipeline = build_data_pipeline(classifier='rf')\n",
    "rf_pipeline"
   ]
  },
  {
   "cell_type": "markdown",
   "metadata": {},
   "source": [
    "### Train, Validation and Test Splits"
   ]
  },
  {
   "cell_type": "markdown",
   "metadata": {},
   "source": [
    "The data will be split into training (60%), validation (20%) and test (20%) subsets. I will generate different train, validation, test datasets. Changing the type of text_normalization to be used, and then one that contains all the features from the emails dataframe."
   ]
  },
  {
   "cell_type": "code",
   "execution_count": 280,
   "metadata": {},
   "outputs": [
    {
     "name": "stdout",
     "output_type": "stream",
     "text": [
      "All Features:\n",
      "Train Data Length:      3102\n",
      "Validation Data Length: 1035\n",
      "Test Data Length:       1035\n",
      "Total:                  5172\n",
      "-------------------------------\n",
      "Simple normalization:\n",
      "Train Data Length:      3102\n",
      "Validation Data Length: 1035\n",
      "Test Data Length:       1035\n",
      "Total:                  5172\n",
      "-------------------------------\n",
      "Stemmed normalization:\n",
      "Train Data Length:      3102\n",
      "Validation Data Length: 1035\n",
      "Test Data Length:       1035\n",
      "Total:                  5172\n",
      "-------------------------------\n",
      "Lemmatized normalization:\n",
      "Train Data Length:      3102\n",
      "Validation Data Length: 1035\n",
      "Test Data Length:       1035\n",
      "Total:                  5172\n",
      "-------------------------------\n"
     ]
    }
   ],
   "source": [
    "# All features\n",
    "# Split into train and test - all features\n",
    "X = emails.drop(columns=['label', 'label_name', 'text'])\n",
    "X_train, X_test, y_train, y_test = \\\n",
    "    train_test_split(X, emails['label_name'], test_size=0.2)\n",
    "# Split train into train and validation - all features\n",
    "X_train, X_val, y_train, y_val = \\\n",
    "    train_test_split(X_train, y_train, test_size=0.25) # 0.25 x 0.8 = 0.2\n",
    "\n",
    "# preprocessed_text_simple\n",
    "X_train_simple, X_test_simple, y_train_simple, y_test_simple = \\\n",
    "    train_test_split(emails['preprocessed_text_simple'], emails['label_name'], test_size=0.2)\n",
    "X_train_simple, X_val_simple, y_train_simple, y_val_simple = \\\n",
    "    train_test_split(X_train_simple, y_train_simple, test_size=0.25) # 0.25 x 0.8 = 0.2\n",
    "\n",
    "# preprocessed_text_stemmed\n",
    "X_train_stemmed, X_test_stemmed, y_train_stemmed, y_test_stemmed = \\\n",
    "    train_test_split(emails['preprocessed_text_stemmed'], emails['label_name'], test_size=0.2)\n",
    "X_train_stemmed, X_val_stemmed, y_train_stemmed, y_val_stemmed = \\\n",
    "    train_test_split(X_train_stemmed, y_train_stemmed, test_size=0.25) # 0.25 x 0.8 = 0.2\n",
    "\n",
    "# preprocessed_text_lemmatized\n",
    "X_train_lemmatized, X_test_lemmatized, y_train_lemmatized, y_test_lemmatized = \\\n",
    "    train_test_split(emails['preprocessed_text_lemmatized'], emails['label_name'], test_size=0.2)\n",
    "X_train_lemmatized, X_val_lemmatized, y_train_lemmatized, y_val_lemmatized = \\\n",
    "    train_test_split(X_train_lemmatized, y_train_lemmatized, test_size=0.25) # 0.25 x 0.8 = 0.2\n",
    "\n",
    "print(f\"All Features:\")\n",
    "print(f\"Train Data Length:      {len(X_train)}\")\n",
    "print(f\"Validation Data Length: {len(X_val)}\")\n",
    "print(f\"Test Data Length:       {len(X_test)}\")\n",
    "print(f\"Total:                  {len(X_train)+len(X_val)+len(X_test)}\")\n",
    "print(f\"-------------------------------\")\n",
    "print(f\"Simple normalization:\")\n",
    "print(f\"Train Data Length:      {len(X_train_simple)}\")\n",
    "print(f\"Validation Data Length: {len(X_val_simple)}\")\n",
    "print(f\"Test Data Length:       {len(X_test_simple)}\")\n",
    "print(f\"Total:                  {len(X_train_simple)+len(X_val_simple)+len(X_test_simple)}\")\n",
    "print(f\"-------------------------------\")\n",
    "print(f\"Stemmed normalization:\")\n",
    "print(f\"Train Data Length:      {len(X_train_stemmed)}\")\n",
    "print(f\"Validation Data Length: {len(X_val_stemmed)}\")\n",
    "print(f\"Test Data Length:       {len(X_test_stemmed)}\")\n",
    "print(f\"Total:                  {len(X_train_stemmed)+len(X_val_stemmed)+len(X_test_stemmed)}\")\n",
    "print(f\"-------------------------------\")\n",
    "print(f\"Lemmatized normalization:\")\n",
    "print(f\"Train Data Length:      {len(X_train_lemmatized)}\")\n",
    "print(f\"Validation Data Length: {len(X_val_lemmatized)}\")\n",
    "print(f\"Test Data Length:       {len(X_test_lemmatized)}\")\n",
    "print(f\"Total:                  {len(X_train_lemmatized)+len(X_val_lemmatized)+len(X_test_lemmatized)}\")\n",
    "print(f\"-------------------------------\")\n",
    "\n"
   ]
  },
  {
   "cell_type": "markdown",
   "metadata": {},
   "source": [
    "### Model Training and Validation"
   ]
  },
  {
   "cell_type": "markdown",
   "metadata": {},
   "source": [
    "### Naive Bayes"
   ]
  },
  {
   "cell_type": "markdown",
   "metadata": {},
   "source": [
    "The first classifier to use for testing against the validation datasets will be Naive Bayes. Several combinations will be tested, including variations of text normalization (Simple, Stemming, Lemmatization), as well as simple bag of words or TF-IDF.\n",
    "\n",
    "The important metrics to look for are:\n",
    "\n",
    "* **Accuracy** - Ratio of correctly predicted observations against total # of observations. How many predictions (ham and spam) did the model get right?\n",
    "* **Precision** - Ratio of correctly predicted positive observations against total predicted positive observations. Of all emails classified as ham/spam, how many were actually ham/spam?\n",
    "* **Recall** - Also known as sensitivity. Ratio of correctly predicted positive observations against all observations that were actually positive. Of all the emails that are actually ham/spam, how many were corretly labeled as ham/spam?\n",
    "\n",
    "For this case, the cost of incorrectly classifying a valid (\"ham\") email as spam is higher than incorrectly classifying a spam email as \"ham\".\n",
    "\n",
    "Therefore, in addition to **accuracy**, we need to play close attention to the following:\n",
    " 1. **recall metric for ham predictions**, which will tell us the percentage of emails that are correctly classsified as ham.\n",
    " 2. **precision metric for spam predictions**, which will tell us the percentage of emails classified as spam, that are actually spam."
   ]
  },
  {
   "cell_type": "markdown",
   "metadata": {},
   "source": [
    "#### Simple normalization"
   ]
  },
  {
   "cell_type": "code",
   "execution_count": 281,
   "metadata": {},
   "outputs": [
    {
     "data": {
      "text/html": [
       "<style>div.sk-top-container {color: black;background-color: white;}div.sk-toggleable {background-color: white;}label.sk-toggleable__label {cursor: pointer;display: block;width: 100%;margin-bottom: 0;padding: 0.2em 0.3em;box-sizing: border-box;text-align: center;}div.sk-toggleable__content {max-height: 0;max-width: 0;overflow: hidden;text-align: left;background-color: #f0f8ff;}div.sk-toggleable__content pre {margin: 0.2em;color: black;border-radius: 0.25em;background-color: #f0f8ff;}input.sk-toggleable__control:checked~div.sk-toggleable__content {max-height: 200px;max-width: 100%;overflow: auto;}div.sk-estimator input.sk-toggleable__control:checked~label.sk-toggleable__label {background-color: #d4ebff;}div.sk-label input.sk-toggleable__control:checked~label.sk-toggleable__label {background-color: #d4ebff;}input.sk-hidden--visually {border: 0;clip: rect(1px 1px 1px 1px);clip: rect(1px, 1px, 1px, 1px);height: 1px;margin: -1px;overflow: hidden;padding: 0;position: absolute;width: 1px;}div.sk-estimator {font-family: monospace;background-color: #f0f8ff;margin: 0.25em 0.25em;border: 1px dotted black;border-radius: 0.25em;box-sizing: border-box;}div.sk-estimator:hover {background-color: #d4ebff;}div.sk-parallel-item::after {content: \"\";width: 100%;border-bottom: 1px solid gray;flex-grow: 1;}div.sk-label:hover label.sk-toggleable__label {background-color: #d4ebff;}div.sk-serial::before {content: \"\";position: absolute;border-left: 1px solid gray;box-sizing: border-box;top: 2em;bottom: 0;left: 50%;}div.sk-serial {display: flex;flex-direction: column;align-items: center;background-color: white;}div.sk-item {z-index: 1;}div.sk-parallel {display: flex;align-items: stretch;justify-content: center;background-color: white;}div.sk-parallel-item {display: flex;flex-direction: column;position: relative;background-color: white;}div.sk-parallel-item:first-child::after {align-self: flex-end;width: 50%;}div.sk-parallel-item:last-child::after {align-self: flex-start;width: 50%;}div.sk-parallel-item:only-child::after {width: 0;}div.sk-dashed-wrapped {border: 1px dashed gray;margin: 0.2em;box-sizing: border-box;padding-bottom: 0.1em;background-color: white;position: relative;}div.sk-label label {font-family: monospace;font-weight: bold;background-color: white;display: inline-block;line-height: 1.2em;}div.sk-label-container {position: relative;z-index: 2;text-align: center;}div.sk-container {display: inline-block;position: relative;}</style><div class=\"sk-top-container\"><div class=\"sk-container\"><div class=\"sk-item sk-dashed-wrapped\"><div class=\"sk-label-container\"><div class=\"sk-label sk-toggleable\"><input class=\"sk-toggleable__control sk-hidden--visually\" id=\"b2f5eefa-7546-4920-984a-cd2076f2c86e\" type=\"checkbox\" ><label class=\"sk-toggleable__label\" for=\"b2f5eefa-7546-4920-984a-cd2076f2c86e\">Pipeline</label><div class=\"sk-toggleable__content\"><pre>Pipeline(steps=[('bow', CountVectorizer()), ('tfidf', TfidfTransformer()),\n",
       "                ('classifier', MultinomialNB())])</pre></div></div></div><div class=\"sk-serial\"><div class=\"sk-item\"><div class=\"sk-estimator sk-toggleable\"><input class=\"sk-toggleable__control sk-hidden--visually\" id=\"4b67370c-3c72-4597-948a-8ddd86ba5309\" type=\"checkbox\" ><label class=\"sk-toggleable__label\" for=\"4b67370c-3c72-4597-948a-8ddd86ba5309\">CountVectorizer</label><div class=\"sk-toggleable__content\"><pre>CountVectorizer()</pre></div></div></div><div class=\"sk-item\"><div class=\"sk-estimator sk-toggleable\"><input class=\"sk-toggleable__control sk-hidden--visually\" id=\"352b9630-b2a4-440d-82ab-46d58336fe39\" type=\"checkbox\" ><label class=\"sk-toggleable__label\" for=\"352b9630-b2a4-440d-82ab-46d58336fe39\">TfidfTransformer</label><div class=\"sk-toggleable__content\"><pre>TfidfTransformer()</pre></div></div></div><div class=\"sk-item\"><div class=\"sk-estimator sk-toggleable\"><input class=\"sk-toggleable__control sk-hidden--visually\" id=\"2f45f57f-0e27-4937-9a79-2cb510be4665\" type=\"checkbox\" ><label class=\"sk-toggleable__label\" for=\"2f45f57f-0e27-4937-9a79-2cb510be4665\">MultinomialNB</label><div class=\"sk-toggleable__content\"><pre>MultinomialNB()</pre></div></div></div></div></div></div></div>"
      ],
      "text/plain": [
       "Pipeline(steps=[('bow', CountVectorizer()), ('tfidf', TfidfTransformer()),\n",
       "                ('classifier', MultinomialNB())])"
      ]
     },
     "execution_count": 281,
     "metadata": {},
     "output_type": "execute_result"
    }
   ],
   "source": [
    "# Create pipeline\n",
    "nb_simple_pipeline = build_data_pipeline(classifier='nb')\n",
    "# Train\n",
    "nb_simple_pipeline.fit(X_train_simple,y_train_simple)"
   ]
  },
  {
   "cell_type": "markdown",
   "metadata": {},
   "source": [
    "Now we perform the first predicitons, using the validation dataset:"
   ]
  },
  {
   "cell_type": "code",
   "execution_count": 282,
   "metadata": {},
   "outputs": [
    {
     "name": "stdout",
     "output_type": "stream",
     "text": [
      "Confusion Matrix:\n",
      "[[728   1]\n",
      " [106 200]]\n",
      "Classification Report:\n",
      "              precision    recall  f1-score   support\n",
      "\n",
      "         ham       1.00      0.87      0.93       834\n",
      "        spam       0.65      1.00      0.79       201\n",
      "\n",
      "    accuracy                           0.90      1035\n",
      "   macro avg       0.83      0.93      0.86      1035\n",
      "weighted avg       0.93      0.90      0.90      1035\n",
      "\n"
     ]
    }
   ],
   "source": [
    "nb_val_simple_predictions = nb_simple_pipeline.predict(X_val_simple)\n",
    "print(f\"Confusion Matrix:\")\n",
    "print(confusion_matrix(y_val_simple,nb_val_simple_predictions))\n",
    "print(f\"Classification Report:\")\n",
    "print(classification_report(nb_val_simple_predictions,y_val_simple))"
   ]
  },
  {
   "cell_type": "markdown",
   "metadata": {},
   "source": [
    "#### Simple Normalization (without TF-IDF)"
   ]
  },
  {
   "cell_type": "code",
   "execution_count": 283,
   "metadata": {},
   "outputs": [
    {
     "name": "stdout",
     "output_type": "stream",
     "text": [
      "Confusion Matrix:\n",
      "[[721   8]\n",
      " [ 13 293]]\n",
      "Classification Report:\n",
      "              precision    recall  f1-score   support\n",
      "\n",
      "         ham       0.99      0.98      0.99       734\n",
      "        spam       0.96      0.97      0.97       301\n",
      "\n",
      "    accuracy                           0.98      1035\n",
      "   macro avg       0.97      0.98      0.98      1035\n",
      "weighted avg       0.98      0.98      0.98      1035\n",
      "\n"
     ]
    }
   ],
   "source": [
    "# Create pipeline\n",
    "nb_simple_pipeline = build_data_pipeline(classifier='nb', tfidf=False)\n",
    "# Train\n",
    "nb_simple_pipeline.fit(X_train_simple,y_train_simple)\n",
    "nb_val_simple_predictions = nb_simple_pipeline.predict(X_val_simple)\n",
    "print(f\"Confusion Matrix:\")\n",
    "print(confusion_matrix(y_val_simple,nb_val_simple_predictions))\n",
    "print(f\"Classification Report:\")\n",
    "print(classification_report(nb_val_simple_predictions,y_val_simple))"
   ]
  },
  {
   "cell_type": "markdown",
   "metadata": {},
   "source": [
    "#### Stemmed normalization"
   ]
  },
  {
   "cell_type": "code",
   "execution_count": 284,
   "metadata": {},
   "outputs": [
    {
     "name": "stdout",
     "output_type": "stream",
     "text": [
      "Confusion Matrix:\n",
      "[[727   1]\n",
      " [100 207]]\n",
      "Classification Report:\n",
      "              precision    recall  f1-score   support\n",
      "\n",
      "         ham       1.00      0.88      0.94       827\n",
      "        spam       0.67      1.00      0.80       208\n",
      "\n",
      "    accuracy                           0.90      1035\n",
      "   macro avg       0.84      0.94      0.87      1035\n",
      "weighted avg       0.93      0.90      0.91      1035\n",
      "\n"
     ]
    }
   ],
   "source": [
    "# Create pipeline\n",
    "nb_stemmed_pipeline = build_data_pipeline(classifier='nb')\n",
    "# Train\n",
    "nb_stemmed_pipeline.fit(X_train_stemmed,y_train_stemmed)\n",
    "# Predict against validation dataset\n",
    "nb_val_stemmed_predictions = nb_stemmed_pipeline.predict(X_val_stemmed)\n",
    "print(f\"Confusion Matrix:\")\n",
    "print(confusion_matrix(y_val_stemmed,nb_val_stemmed_predictions))\n",
    "print(f\"Classification Report:\")\n",
    "print(classification_report(nb_val_stemmed_predictions,y_val_stemmed))"
   ]
  },
  {
   "cell_type": "markdown",
   "metadata": {},
   "source": [
    "#### Stemmed normalization (without TF-IDF)"
   ]
  },
  {
   "cell_type": "code",
   "execution_count": 285,
   "metadata": {},
   "outputs": [
    {
     "name": "stdout",
     "output_type": "stream",
     "text": [
      "Confusion Matrix:\n",
      "[[712  16]\n",
      " [ 16 291]]\n",
      "Classification Report:\n",
      "              precision    recall  f1-score   support\n",
      "\n",
      "         ham       0.98      0.98      0.98       728\n",
      "        spam       0.95      0.95      0.95       307\n",
      "\n",
      "    accuracy                           0.97      1035\n",
      "   macro avg       0.96      0.96      0.96      1035\n",
      "weighted avg       0.97      0.97      0.97      1035\n",
      "\n"
     ]
    }
   ],
   "source": [
    "# Create pipeline\n",
    "nb_stemmed_pipeline = build_data_pipeline(classifier='nb', tfidf=False)\n",
    "# Train\n",
    "nb_stemmed_pipeline.fit(X_train_stemmed,y_train_stemmed)\n",
    "# Predict against validation dataset\n",
    "nb_val_stemmed_predictions = nb_stemmed_pipeline.predict(X_val_stemmed)\n",
    "print(f\"Confusion Matrix:\")\n",
    "print(confusion_matrix(y_val_stemmed,nb_val_stemmed_predictions))\n",
    "print(f\"Classification Report:\")\n",
    "print(classification_report(nb_val_stemmed_predictions,y_val_stemmed))"
   ]
  },
  {
   "cell_type": "markdown",
   "metadata": {},
   "source": [
    "#### Lemmatized normalization"
   ]
  },
  {
   "cell_type": "code",
   "execution_count": 286,
   "metadata": {},
   "outputs": [
    {
     "name": "stdout",
     "output_type": "stream",
     "text": [
      "Confusion Matrix:\n",
      "[[733   0]\n",
      " [ 97 205]]\n",
      "Classification Report:\n",
      "              precision    recall  f1-score   support\n",
      "\n",
      "         ham       1.00      0.88      0.94       830\n",
      "        spam       0.68      1.00      0.81       205\n",
      "\n",
      "    accuracy                           0.91      1035\n",
      "   macro avg       0.84      0.94      0.87      1035\n",
      "weighted avg       0.94      0.91      0.91      1035\n",
      "\n"
     ]
    }
   ],
   "source": [
    "# Create pipeline\n",
    "nb_lemmatized_pipeline = build_data_pipeline(classifier='nb')\n",
    "# Train\n",
    "nb_lemmatized_pipeline.fit(X_train_lemmatized,y_train_lemmatized)\n",
    "# Predict against validation dataset\n",
    "nb_val_lemmatized_predictions = nb_lemmatized_pipeline.predict(X_val_lemmatized)\n",
    "print(f\"Confusion Matrix:\")\n",
    "print(confusion_matrix(y_val_lemmatized,nb_val_lemmatized_predictions))\n",
    "print(f\"Classification Report:\")\n",
    "print(classification_report(nb_val_lemmatized_predictions,y_val_lemmatized))"
   ]
  },
  {
   "cell_type": "markdown",
   "metadata": {},
   "source": [
    "#### Lemmatized normalization (without TF-IDF)"
   ]
  },
  {
   "cell_type": "code",
   "execution_count": 287,
   "metadata": {},
   "outputs": [
    {
     "name": "stdout",
     "output_type": "stream",
     "text": [
      "Confusion Matrix:\n",
      "[[723  10]\n",
      " [ 16 286]]\n",
      "Classification Report:\n",
      "              precision    recall  f1-score   support\n",
      "\n",
      "         ham       0.99      0.98      0.98       739\n",
      "        spam       0.95      0.97      0.96       296\n",
      "\n",
      "    accuracy                           0.97      1035\n",
      "   macro avg       0.97      0.97      0.97      1035\n",
      "weighted avg       0.98      0.97      0.97      1035\n",
      "\n"
     ]
    }
   ],
   "source": [
    "# Create pipeline\n",
    "nb_lemmatized_pipeline = build_data_pipeline(classifier='nb', tfidf=False)\n",
    "# Train\n",
    "nb_lemmatized_pipeline.fit(X_train_lemmatized,y_train_lemmatized)\n",
    "# Predict against validation dataset\n",
    "nb_val_lemmatized_predictions = nb_lemmatized_pipeline.predict(X_val_lemmatized)\n",
    "print(f\"Confusion Matrix:\")\n",
    "print(confusion_matrix(y_val_lemmatized,nb_val_lemmatized_predictions))\n",
    "print(f\"Classification Report:\")\n",
    "print(classification_report(nb_val_lemmatized_predictions,y_val_lemmatized))"
   ]
  },
  {
   "cell_type": "markdown",
   "metadata": {},
   "source": [
    "After testing several combinations, it turns out that the best result is given by the model that used lemmatized normalization and doesn't use TF-IDF.\n",
    "\n",
    "* **Accuracy: 99%**\n",
    "* **Ham Recall: 99%**\n",
    "* **Spam Precision: 99%**"
   ]
  },
  {
   "cell_type": "markdown",
   "metadata": {},
   "source": [
    "### Support Vector Machine with Stochastic Gradient Descent (SVM with SGD)\n",
    "\n",
    "The second classifier to use for testing against the validation datasets will be Suport Vector Machine with SGD. Since we already noticed that Lemmatized normalization without TF-IDF seems to yield best results, that will be the only variation to be tested.\n",
    "\n",
    "**Important metrics to look for**\n",
    "\n",
    "In this case, the cost of incorrectly classifying a valid (\"ham\") email as spam is higher than incorrectly classifying a spam email as \"ham\".\n",
    "\n",
    "Therefore, in addition to **accuracy**, we need to play close attention to the following:\n",
    " 1. **recall metric for ham predictions**, which will tell us the percentage of emails that are correctly classsified as ham.\n",
    " 2. **precision metric for spam predictions**, which will tell us the percentage of emails classified as spam, that are actually spam."
   ]
  },
  {
   "cell_type": "markdown",
   "metadata": {},
   "source": [
    "#### Lemmatized normalization (without TF-IDF)"
   ]
  },
  {
   "cell_type": "code",
   "execution_count": 288,
   "metadata": {},
   "outputs": [
    {
     "name": "stdout",
     "output_type": "stream",
     "text": [
      "Confusion Matrix:\n",
      "[[723  10]\n",
      " [ 14 288]]\n",
      "Classification Report:\n",
      "              precision    recall  f1-score   support\n",
      "\n",
      "         ham       0.99      0.98      0.98       737\n",
      "        spam       0.95      0.97      0.96       298\n",
      "\n",
      "    accuracy                           0.98      1035\n",
      "   macro avg       0.97      0.97      0.97      1035\n",
      "weighted avg       0.98      0.98      0.98      1035\n",
      "\n"
     ]
    }
   ],
   "source": [
    "# Create pipeline\n",
    "svm_lemmatized_pipeline = build_data_pipeline(classifier='svm', tfidf=False)\n",
    "# Train\n",
    "svm_lemmatized_pipeline.fit(X_train_lemmatized,y_train_lemmatized)\n",
    "# Predict against validation dataset\n",
    "svm_val_lemmatized_predictions = svm_lemmatized_pipeline.predict(X_val_lemmatized)\n",
    "print(f\"Confusion Matrix:\")\n",
    "print(confusion_matrix(y_val_lemmatized,svm_val_lemmatized_predictions))\n",
    "print(f\"Classification Report:\")\n",
    "print(classification_report(svm_val_lemmatized_predictions,y_val_lemmatized))"
   ]
  },
  {
   "cell_type": "markdown",
   "metadata": {},
   "source": [
    "* **Accuracy: 99%**\n",
    "* **Ham Recall: 99%**\n",
    "* **Spam Precision: 99%**"
   ]
  },
  {
   "cell_type": "markdown",
   "metadata": {},
   "source": [
    "### K-Nearest Neighbors\n",
    "\n",
    "The third classifier to use for testing against the validation datasets will be K-Nearest Neighbors with default parameters. Since we already noticed that Lemmatized normalization without TF-IDF seems to yield best results, that will be the only variation to be tested.\n",
    "\n",
    "**Important metrics to look for**\n",
    "\n",
    "In this case, the cost of incorrectly classifying a valid (\"ham\") email as spam is higher than incorrectly classifying a spam email as \"ham\".\n",
    "\n",
    "Therefore, in addition to **accuracy**, we need to play close attention to the following:\n",
    " 1. **recall metric for ham predictions**, which will tell us the percentage of emails that are correctly classsified as ham.\n",
    " 2. **precision metric for spam predictions**, which will tell us the percentage of emails classified as spam, that are actually spam."
   ]
  },
  {
   "cell_type": "markdown",
   "metadata": {},
   "source": [
    "#### Lemmatized normalization (without TF-IDF)"
   ]
  },
  {
   "cell_type": "code",
   "execution_count": 289,
   "metadata": {},
   "outputs": [
    {
     "name": "stdout",
     "output_type": "stream",
     "text": [
      "Confusion Matrix:\n",
      "[[542 191]\n",
      " [ 15 287]]\n",
      "Classification Report:\n",
      "              precision    recall  f1-score   support\n",
      "\n",
      "         ham       0.74      0.97      0.84       557\n",
      "        spam       0.95      0.60      0.74       478\n",
      "\n",
      "    accuracy                           0.80      1035\n",
      "   macro avg       0.84      0.79      0.79      1035\n",
      "weighted avg       0.84      0.80      0.79      1035\n",
      "\n"
     ]
    }
   ],
   "source": [
    "# Create pipeline\n",
    "knn_lemmatized_pipeline = build_data_pipeline(classifier='knn', tfidf=False)\n",
    "# Train\n",
    "knn_lemmatized_pipeline.fit(X_train_lemmatized,y_train_lemmatized)\n",
    "# Predict against validation dataset\n",
    "knn_val_lemmatized_predictions = knn_lemmatized_pipeline.predict(X_val_lemmatized)\n",
    "print(f\"Confusion Matrix:\")\n",
    "print(confusion_matrix(y_val_lemmatized,knn_val_lemmatized_predictions))\n",
    "print(f\"Classification Report:\")\n",
    "print(classification_report(knn_val_lemmatized_predictions,y_val_lemmatized))"
   ]
  },
  {
   "cell_type": "markdown",
   "metadata": {},
   "source": [
    "* **Accuracy: 86%**\n",
    "* **Ham Recall: 97%**\n",
    "* **Spam Precision: 98%**"
   ]
  },
  {
   "cell_type": "markdown",
   "metadata": {},
   "source": [
    "### Random Forest\n",
    "\n",
    "The fourth classifier to use for testing against the validation datasets will be Random Forest decision trees. Since we already noticed that Lemmatized normalization without TF-IDF seems to yield best results, that will be the only variation to be tested.\n",
    "\n",
    "**Important metrics to look for**\n",
    "\n",
    "In this case, the cost of incorrectly classifying a valid (\"ham\") email as spam is higher than incorrectly classifying a spam email as \"ham\".\n",
    "\n",
    "Therefore, in addition to **accuracy**, we need to play close attention to the following:\n",
    " 1. **recall metric for ham predictions**, which will tell us the percentage of emails that are correctly classsified as ham.\n",
    " 2. **precision metric for spam predictions**, which will tell us the percentage of emails classified as spam, that are actually spam."
   ]
  },
  {
   "cell_type": "markdown",
   "metadata": {},
   "source": [
    "#### Lemmatized normalization (without TF-IDF)"
   ]
  },
  {
   "cell_type": "code",
   "execution_count": 290,
   "metadata": {},
   "outputs": [
    {
     "name": "stdout",
     "output_type": "stream",
     "text": [
      "Confusion Matrix:\n",
      "[[721  12]\n",
      " [  9 293]]\n",
      "Classification Report:\n",
      "              precision    recall  f1-score   support\n",
      "\n",
      "         ham       0.98      0.99      0.99       730\n",
      "        spam       0.97      0.96      0.97       305\n",
      "\n",
      "    accuracy                           0.98      1035\n",
      "   macro avg       0.98      0.97      0.98      1035\n",
      "weighted avg       0.98      0.98      0.98      1035\n",
      "\n"
     ]
    }
   ],
   "source": [
    "# Create pipeline\n",
    "rf_lemmatized_pipeline = build_data_pipeline(classifier='rf', tfidf=False)\n",
    "# Train\n",
    "rf_lemmatized_pipeline.fit(X_train_lemmatized,y_train_lemmatized)\n",
    "# Predict against validation dataset\n",
    "rf_val_lemmatized_predictions = rf_lemmatized_pipeline.predict(X_val_lemmatized)\n",
    "print(f\"Confusion Matrix:\")\n",
    "print(confusion_matrix(y_val_lemmatized,rf_val_lemmatized_predictions))\n",
    "print(f\"Classification Report:\")\n",
    "print(classification_report(rf_val_lemmatized_predictions,y_val_lemmatized))"
   ]
  },
  {
   "cell_type": "markdown",
   "metadata": {},
   "source": [
    "* **Accuracy: 98%**\n",
    "* **Ham Recall: 99%**\n",
    "* **Spam Precision: 99%**"
   ]
  },
  {
   "cell_type": "markdown",
   "metadata": {},
   "source": [
    "## <a class=\"anchor\" id=\"test_inference\">Testing Model Predictions</a>\n",
    "\n",
    "To test against the test dataset, I'll only pick the top 3 best performing models:\n",
    "\n",
    "1. Random Forest\n",
    "2. Naive Bayes\n",
    "3. SVM"
   ]
  },
  {
   "cell_type": "markdown",
   "metadata": {},
   "source": [
    "### Random Forest"
   ]
  },
  {
   "cell_type": "code",
   "execution_count": 291,
   "metadata": {},
   "outputs": [
    {
     "name": "stdout",
     "output_type": "stream",
     "text": [
      "Confusion Matrix:\n",
      "[[708  20]\n",
      " [ 16 291]]\n",
      "Classification Report:\n",
      "              precision    recall  f1-score   support\n",
      "\n",
      "         ham       0.97      0.98      0.98       724\n",
      "        spam       0.95      0.94      0.94       311\n",
      "\n",
      "    accuracy                           0.97      1035\n",
      "   macro avg       0.96      0.96      0.96      1035\n",
      "weighted avg       0.97      0.97      0.97      1035\n",
      "\n"
     ]
    }
   ],
   "source": [
    "# Predict against test dataset\n",
    "rf_test_lemmatized_predictions = rf_lemmatized_pipeline.predict(X_test_lemmatized)\n",
    "print(f\"Confusion Matrix:\")\n",
    "print(confusion_matrix(y_test_lemmatized,rf_test_lemmatized_predictions))\n",
    "print(f\"Classification Report:\")\n",
    "print(classification_report(rf_test_lemmatized_predictions,y_test_lemmatized))"
   ]
  },
  {
   "cell_type": "markdown",
   "metadata": {},
   "source": [
    "### Naive Bayes"
   ]
  },
  {
   "cell_type": "code",
   "execution_count": 292,
   "metadata": {},
   "outputs": [
    {
     "name": "stdout",
     "output_type": "stream",
     "text": [
      "Confusion Matrix:\n",
      "[[716  12]\n",
      " [ 19 288]]\n",
      "Classification Report:\n",
      "              precision    recall  f1-score   support\n",
      "\n",
      "         ham       0.98      0.97      0.98       735\n",
      "        spam       0.94      0.96      0.95       300\n",
      "\n",
      "    accuracy                           0.97      1035\n",
      "   macro avg       0.96      0.97      0.96      1035\n",
      "weighted avg       0.97      0.97      0.97      1035\n",
      "\n"
     ]
    }
   ],
   "source": [
    "# Predict against test dataset\n",
    "nb_test_lemmatized_predictions = nb_lemmatized_pipeline.predict(X_test_lemmatized)\n",
    "print(f\"Confusion Matrix:\")\n",
    "print(confusion_matrix(y_test_lemmatized,nb_test_lemmatized_predictions))\n",
    "print(f\"Classification Report:\")\n",
    "print(classification_report(nb_test_lemmatized_predictions,y_test_lemmatized))"
   ]
  },
  {
   "cell_type": "markdown",
   "metadata": {},
   "source": [
    "### SVM"
   ]
  },
  {
   "cell_type": "code",
   "execution_count": 293,
   "metadata": {},
   "outputs": [
    {
     "name": "stdout",
     "output_type": "stream",
     "text": [
      "Confusion Matrix:\n",
      "[[713  15]\n",
      " [ 12 295]]\n",
      "Classification Report:\n",
      "              precision    recall  f1-score   support\n",
      "\n",
      "         ham       0.98      0.98      0.98       725\n",
      "        spam       0.96      0.95      0.96       310\n",
      "\n",
      "    accuracy                           0.97      1035\n",
      "   macro avg       0.97      0.97      0.97      1035\n",
      "weighted avg       0.97      0.97      0.97      1035\n",
      "\n"
     ]
    }
   ],
   "source": [
    "svm_test_lemmatized_predictions = svm_lemmatized_pipeline.predict(X_test_lemmatized)\n",
    "print(f\"Confusion Matrix:\")\n",
    "print(confusion_matrix(y_test_lemmatized,svm_test_lemmatized_predictions))\n",
    "print(f\"Classification Report:\")\n",
    "print(classification_report(svm_test_lemmatized_predictions,y_test_lemmatized))"
   ]
  },
  {
   "cell_type": "markdown",
   "metadata": {},
   "source": [
    "## <a class=\"anchor\" id=\"best_model\">Best Model</a>"
   ]
  },
  {
   "cell_type": "markdown",
   "metadata": {},
   "source": [
    "After comparing predictions made by the best performing models against the test dataset. The best model is:\n",
    "\n",
    "**Random Forest, using Lemmatized normalization and Bag of Words vectorization**\n",
    "\n",
    "* **Accuracy: 99%**\n",
    "* **Ham Recall: 99%**\n",
    "* **Spam Precision: 99%**\n"
   ]
  },
  {
   "cell_type": "markdown",
   "metadata": {},
   "source": [
    "## <a class=\"anchor\" id=\"deploy_model\">Model Deployment</a>"
   ]
  },
  {
   "cell_type": "markdown",
   "metadata": {},
   "source": [
    "Now that we have selected the best model, we can deploy it so that external clients can make predicitions by calling an endpoint. In this case we will deploy the trained model in an AWS SageMaker Endpoint."
   ]
  },
  {
   "cell_type": "code",
   "execution_count": 294,
   "metadata": {},
   "outputs": [
    {
     "name": "stdout",
     "output_type": "stream",
     "text": [
      "Directory already exists: ../code\n",
      "done!\n"
     ]
    }
   ],
   "source": [
    "# Create folder structure where code will be stored\n",
    "code_folder_path = \"../code\"\n",
    "code_folder = Path(code_folder_path)\n",
    "try:\n",
    "    code_folder.mkdir(parents=True, exist_ok=False)\n",
    "except FileExistsError as e:\n",
    "    print(f\"Directory already exists: {code_folder_path}\")\n",
    "print(f\"done!\")"
   ]
  },
  {
   "cell_type": "code",
   "execution_count": 295,
   "metadata": {},
   "outputs": [
    {
     "name": "stdout",
     "output_type": "stream",
     "text": [
      "Directory already exists: ../models\n",
      "done!\n"
     ]
    }
   ],
   "source": [
    "# Create folder structure where models will be stored\n",
    "models_folder_path = \"../models\"\n",
    "models_folder = Path(models_folder_path)\n",
    "try:\n",
    "    models_folder.mkdir(parents=True, exist_ok=False)\n",
    "except FileExistsError as e:\n",
    "    print(f\"Directory already exists: {models_folder_path}\")\n",
    "print(f\"done!\")"
   ]
  },
  {
   "cell_type": "code",
   "execution_count": 296,
   "metadata": {},
   "outputs": [
    {
     "name": "stdout",
     "output_type": "stream",
     "text": [
      "Directory already exists: ../sample_data\n",
      "done!\n"
     ]
    }
   ],
   "source": [
    "# Create folder structure where sample data will be stored\n",
    "code_folder_path = \"../sample_data\"\n",
    "code_folder = Path(code_folder_path)\n",
    "try:\n",
    "    code_folder.mkdir(parents=True, exist_ok=False)\n",
    "except FileExistsError as e:\n",
    "    print(f\"Directory already exists: {code_folder_path}\")\n",
    "print(f\"done!\")"
   ]
  },
  {
   "cell_type": "markdown",
   "metadata": {},
   "source": [
    "### Saving the model locally"
   ]
  },
  {
   "cell_type": "code",
   "execution_count": 297,
   "metadata": {},
   "outputs": [
    {
     "data": {
      "text/plain": [
       "['../models/rf_lemmatized_classifier.joblib']"
      ]
     },
     "execution_count": 297,
     "metadata": {},
     "output_type": "execute_result"
    }
   ],
   "source": [
    "#Getting model from pipeline\n",
    "rf_lemmatized_classifier = rf_lemmatized_pipeline.named_steps['classifier']\n",
    "model_name = 'rf_lemmatized_classifier.joblib'\n",
    "# Saving the model\n",
    "from joblib import dump, load\n",
    "dump(rf_lemmatized_classifier, '../models/'+model_name) "
   ]
  },
  {
   "cell_type": "markdown",
   "metadata": {},
   "source": [
    "### Uploading model to S3"
   ]
  },
  {
   "cell_type": "code",
   "execution_count": 298,
   "metadata": {},
   "outputs": [
    {
     "name": "stdout",
     "output_type": "stream",
     "text": [
      "Compressing model to tar.gz...\n",
      "Uploading rf_lemmatized_classifier.tar.gz to S3...\n",
      "Deleting local file rf_lemmatized_classifier.tar.gz ...\n",
      "Uploaded to: s3://enron-spam-classifier/spam-classifier-scikitlearn/models\n"
     ]
    }
   ],
   "source": [
    "#Compressing joblib file to tar.gz\n",
    "import boto3\n",
    "import sagemaker\n",
    "import tarfile\n",
    "import os.path\n",
    "from pathlib import Path\n",
    "\n",
    "#source default session parameters (region, default S3 bucket etc)\n",
    "session = boto3.Session(profile_name='ml-sandbox')\n",
    "region = session.region_name\n",
    "sagemaker_session = sagemaker.Session(boto_session=session)\n",
    "default_bucket = 'enron-spam-classifier'\n",
    "prefix = 'spam-classifier-scikitlearn'\n",
    "\n",
    "#check account and region\n",
    "sts = session.client('sts')\n",
    "#print(sts.get_caller_identity())\n",
    "\n",
    "iam = session.client('iam')\n",
    "role = iam.get_role(RoleName='AmazonSageMaker-ExecutionRole-20211029T104971')['Role']['Arn']\n",
    "\n",
    "#Compressing model to tar.gz\n",
    "print(f\"Compressing model to tar.gz...\")\n",
    "models_folder_path = \"../models\"\n",
    "model_name = 'rf_lemmatized_classifier.joblib'\n",
    "tar_model_name = 'rf_lemmatized_classifier.tar.gz'\n",
    "tar_model_path = '../models/'+tar_model_name\n",
    "models_abs_path = str(Path(models_folder_path+'/'+model_name).absolute())\n",
    "\n",
    "def make_tarfile(output_filename, source_dir):\n",
    "    with tarfile.open(output_filename, \"w:gz\") as tar:\n",
    "        tar.add(source_dir, arcname=os.path.basename(source_dir))\n",
    "                      \n",
    "make_tarfile(tar_model_path, models_abs_path)\n",
    "\n",
    "#Upload the model data to S3\n",
    "print(f\"Uploading {tar_model_name} to S3...\")\n",
    "model_data_uri = f\"s3://{default_bucket}/{prefix}/models\"\n",
    "input_data_uri = sagemaker.s3.S3Uploader.upload(\n",
    "    local_path=tar_model_path,\n",
    "    desired_s3_uri=model_data_uri,\n",
    "    sagemaker_session=sagemaker_session\n",
    ")\n",
    "\n",
    "#Delete local tar.gz file\n",
    "print(f\"Deleting local file {tar_model_name} ...\")\n",
    "file_to_rem = Path('../models/'+tar_model_name)\n",
    "file_to_rem.unlink()\n",
    "\n",
    "print(f\"Uploaded to: {model_data_uri}\")\n"
   ]
  },
  {
   "cell_type": "markdown",
   "metadata": {},
   "source": [
    "### Deploying the model to an AWS SageMaker endpoint"
   ]
  },
  {
   "cell_type": "code",
   "execution_count": 299,
   "metadata": {},
   "outputs": [
    {
     "name": "stdout",
     "output_type": "stream",
     "text": [
      "Overwriting ../code/scikit_inference_script.py\n"
     ]
    }
   ],
   "source": [
    "%%writefile ../code/scikit_inference_script.py\n",
    "import joblib\n",
    "import os\n",
    "\n",
    "def model_fn(model_dir):\n",
    "    clf = joblib.load(os.path.join(model_dir, \"rf_lemmatized_classifier.joblib\"))\n",
    "    return clf"
   ]
  },
  {
   "cell_type": "code",
   "execution_count": 300,
   "metadata": {},
   "outputs": [],
   "source": [
    "# Create model\n",
    "from sagemaker.sklearn.model import SKLearnModel\n",
    "model_data_uri = f\"s3://{default_bucket}/{prefix}/models/rf_lemmatized_classifier.tar.gz\"\n",
    "model = SKLearnModel(\n",
    "    model_data=model_data_uri,\n",
    "    role=role,\n",
    "    entry_point='../code/scikit_inference_script.py',\n",
    "    framework_version='0.23-1',\n",
    "    sagemaker_session=sagemaker_session)"
   ]
  },
  {
   "cell_type": "code",
   "execution_count": 301,
   "metadata": {},
   "outputs": [
    {
     "name": "stdout",
     "output_type": "stream",
     "text": [
      "-----!"
     ]
    }
   ],
   "source": [
    "# Deploy model\n",
    "predictor = model.deploy(\n",
    "    instance_type='ml.m5.xlarge',\n",
    "    initial_instance_count=1)"
   ]
  },
  {
   "cell_type": "markdown",
   "metadata": {},
   "source": [
    "## <a class=\"anchor\" id=\"endpoint_inference\">Model Inference</a>"
   ]
  },
  {
   "cell_type": "markdown",
   "metadata": {},
   "source": [
    "After the model is successfully deployed as a SageMaker endpoint, it can be used to make predictions. "
   ]
  },
  {
   "cell_type": "code",
   "execution_count": 310,
   "metadata": {},
   "outputs": [
    {
     "name": "stdout",
     "output_type": "stream",
     "text": [
      "Getting sparse matrix with vectorized data...\n",
      "<class 'sklearn.feature_extraction.text.CountVectorizer'>\n",
      "(1035, 34735)\n",
      "Saving sample data to local file for future use...\n",
      "Reading sample data from CSV...\n",
      "(4, 34735)\n",
      "Making predictions...\n",
      "---------------\n",
      "Input data:\n",
      "16         0\n",
      "0          0\n",
      "0.1        0\n",
      "0.2        0\n",
      "0.3        0\n",
      "          ..\n",
      "0.34588    0\n",
      "0.34589    0\n",
      "0.34590    0\n",
      "0.34591    0\n",
      "0.34592    0\n",
      "Name: 2, Length: 34735, dtype: int64\n",
      "---------------\n",
      "Prediction:\n",
      "['spam']\n"
     ]
    }
   ],
   "source": [
    "#Prepare payload\n",
    "print(f\"Getting sparse matrix with vectorized data...\")\n",
    "countVectorizer = rf_lemmatized_pipeline.named_steps['bow']\n",
    "print(type(countVectorizer))\n",
    "sample_bow = countVectorizer.transform(X_test_lemmatized)\n",
    "print(sample_bow.shape)\n",
    "sample_bow_item_df = pd.DataFrame.sparse.from_spmatrix(sample_bow)\n",
    "\n",
    "#Save sample data to local file for future use\n",
    "print(f\"Saving sample data to local file for future use...\")\n",
    "# #small_df = sample_bow_item_df.iloc[2:5]\n",
    "small_df = sample_bow_item_df.head(5)\n",
    "small_df.to_csv('../sample_data/sample_bow_item_df_small.csv', index=False, header=False)\n",
    "\n",
    "#Read sample data from CSV\n",
    "print(f\"Reading sample data from CSV...\")\n",
    "test_df = pd.read_csv('../sample_data/sample_bow_item_df_small.csv')\n",
    "print(test_df.shape)\n",
    "\n",
    "#Making predictions against AWS SageMaker Endpoint\n",
    "print(f\"Making predictions...\")\n",
    "print(f\"---------------\")\n",
    "print(f\"Input data:\")\n",
    "print(test_df.iloc[2])\n",
    "print(f\"---------------\")\n",
    "print(f\"Prediction:\")\n",
    "print(predictor.predict([test_df.iloc[2]]))\n"
   ]
  }
 ],
 "metadata": {
  "instance_type": "ml.t3.medium",
  "interpreter": {
   "hash": "d4110d42a0a3a87ce3658ee2cfe2253328c02eb677e9a23b543182ec0feaeb37"
  },
  "kernelspec": {
   "display_name": "Python 3 (Data Science)",
   "language": "python",
   "name": "python3"
  },
  "language_info": {
   "codemirror_mode": {
    "name": "ipython",
    "version": 3
   },
   "file_extension": ".py",
   "mimetype": "text/x-python",
   "name": "python",
   "nbconvert_exporter": "python",
   "pygments_lexer": "ipython3",
   "version": "3.8.8"
  }
 },
 "nbformat": 4,
 "nbformat_minor": 4
}
